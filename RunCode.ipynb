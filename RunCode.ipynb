{
 "cells": [
  {
   "cell_type": "code",
   "execution_count": 16,
   "metadata": {},
   "outputs": [
    {
     "output_type": "stream",
     "name": "stdout",
     "text": "Did you miss me? tata\nHello cat? babas\n"
    }
   ],
   "source": [
    "class Dog():\n",
    "    dueno='Gio'\n",
    "    def __init__(self, name):\n",
    "        self.name = name\n",
    "\n",
    "\n",
    "    def DuenoAsk(self):\n",
    "        return print (f'Did you miss me? {self.name}')\n",
    "\n",
    "\n",
    "class Cat():\n",
    "    Owner='Mom'\n",
    "    def __init__(self, name):\n",
    "        self.name = name\n",
    "    \n",
    "    def DuenoAsk(self):\n",
    "        return print (f'Hello cat? {self.name}')\n",
    "\n",
    "\n",
    "tata=Dog('tata')\n",
    "babas=Cat('babas')\n",
    "\n",
    "for pet in [tata,babas]:\n",
    "    pet.DuenoAsk()\n"
   ]
  },
  {
   "cell_type": "code",
   "execution_count": 17,
   "metadata": {},
   "outputs": [
    {
     "output_type": "stream",
     "name": "stdout",
     "text": "A book object has been deleted\n"
    }
   ],
   "source": [
    "class Phone():\n",
    "    def __init__(self,brand,cost,lenght):\n",
    "        self.bran= brand\n",
    "        self.cost= cost\n",
    "        self.lenght= lenght\n",
    "\n",
    "    def __str__(self):\n",
    "        return(f'The select phone is {self.bran} an has a cost of {self.cost}. ') # String representation of the class\n",
    "\n",
    "    def __len__(self):\n",
    "        return self.lenght\n",
    "\n",
    "    def __del__(self):\n",
    "        print ('A book object has been deleted')\n",
    "\n",
    "Moto= Phone('Motorola', 500, 10)\n",
    "\n",
    "str(Moto)# So if I call print(Moto) I will have the same result\n",
    "len(Moto)# If I call len  it will return the value asociate for the object\n",
    "del Moto # Will print the message asociate to the function\n"
   ]
  },
  {
   "cell_type": "code",
   "execution_count": 33,
   "metadata": {},
   "outputs": [
    {
     "output_type": "stream",
     "name": "stdout",
     "text": "Invalid Value\n"
    }
   ],
   "source": [
    "try: \n",
    "    a= int(input('Age'))\n",
    "except ValueError:\n",
    "    print ('Invalid Value')"
   ]
  },
  {
   "cell_type": "code",
   "execution_count": 13,
   "metadata": {},
   "outputs": [],
   "source": [
    "# This concept of decorators is use it a lot in web programming \n",
    "\n",
    "def new_decorator(original_function):  #Take a function as a parameter \n",
    "    def inside_function(): #Extra functionality that you want for the original function \n",
    "        print ('Extra code , before original function')\n",
    "\n",
    "        original_function()         # Execution of original function \n",
    "\n",
    "        print('Some extra code, after the original function')\n",
    "    return inside_function # You need to return the inside function for the extra funcionality \n",
    "\n",
    "\n",
    "\n",
    "def need_decorator():\n",
    "    print ('Needs a decorartor')\n",
    "\n",
    "decorated_function= new_decorator(need_decorator) # This is the same that using the operador decorator @\n",
    "\n",
    "@new_decorator #This add the extra functionality without alterate the function. \n",
    "def need_decorator():\n",
    "    print ('Needs a decorartor')\n"
   ]
  },
  {
   "cell_type": "code",
   "execution_count": 14,
   "metadata": {},
   "outputs": [
    {
     "output_type": "stream",
     "name": "stdout",
     "text": "Extra code , before original function\nNeeds a decorartor\nSome extra code, after the original function\n"
    }
   ],
   "source": [
    "need_decorator()"
   ]
  },
  {
   "cell_type": "code",
   "execution_count": 1,
   "metadata": {},
   "outputs": [],
   "source": [
    "def fibona(n):\n",
    "    a=1\n",
    "    b=1\n",
    "    for x in range(n):\n",
    "        yield a\n",
    "        a,b = b,a+b\n",
    "\n",
    "for i in fibona(20):\n",
    "    print (i)"
   ]
  },
  {
   "cell_type": "code",
   "execution_count": 2,
   "metadata": {},
   "outputs": [],
   "source": [
    "# EXPLANATION FOR COREY SCHAFER:"
   ]
  },
  {
   "cell_type": "code",
   "execution_count": 14,
   "metadata": {},
   "outputs": [],
   "source": [
    "class Employee:\n",
    "    num_of_emps=0 #CLASS VARIABLE \n",
    "    raise_amt=1.04\n",
    "    def __init__(self,first,last,pay):\n",
    "        self.first = first #Instance variables. Unique for each instance\n",
    "        self.last = last\n",
    "        self.email = first +'.'+last+'@email.com'\n",
    "        self.pay = pay\n",
    "        Employee.num_of_emps += 1 # It will increase every time that we use class Employee\n",
    "\n",
    "    def fullname(self): # Method automactic take the instance as a first argument\n",
    "        return (f'{self.first} {self.last}')\n",
    "    \n",
    "    def apply_raise(self):\n",
    "        self.pay = int(self.pay * self.raise_amt)\n",
    "    @classmethod                \n",
    "    def from_strg_separate(cls,emplostr):\n",
    "        one, two, three, four= emplostr.split('-')\n",
    "        return cls(one,two,three,four)\n",
    "\n",
    "    @classmethod            # CLASS  METHOD Automatically take the CLASS as a first argument. It' also use as an alternative constructor \n",
    "    def set_raise_amt(cls,amount): #cls is like self as class variable name \n",
    "        cls.raise_amt = amount  # When this value change it will change in old the class and all objects asociated \n",
    "\n",
    "    @staticmethod       # Static method don't take the instance or the class as a first argument . It behave as a function. DON'T operate on the instance or the class \n",
    "    def is_workday(day):\n",
    "        if day.weekday() == 5 or day.weekday()==6:\n",
    "            return False\n",
    "        return True\n",
    "    def __repr__(self):\n",
    "        return \"Employee('{}','{}'',{})'\".format(self.first,self.last,self.pay)\n",
    "\n",
    "emp1= Employee('Nico', 'Garcia', 7000000)\n",
    "emp2= Employee('Test', 'Employee', 60000)\n",
    "\n",
    "Employee.set_raise_amt(1.05) # It not usually use for stablish the intance \n",
    "emp1.set_raise_amt(1.07) # It can be call from an object or intance and it will still change the class variable\n",
    "\n",
    "\n",
    "# print (Employee.raise_amt)\n",
    "# print(emp1.raise_amt)\n",
    "# print(emp2.raise_amt)\n",
    "\n",
    "emp_as_str1= 'Nico-Garcia-70000'\n",
    "emp_as_str2= 'Streve-Smith-30000'\n",
    "emp_as_str3= 'Wayne-Deadpool-50000'\n",
    "emp_as_str4= 'Ivan-N-70000-Python'\n",
    "\n",
    "#INHERITANCE AND SUBCLASSES . Chain method resolution order \n",
    "\n",
    "class Developer(Employee): # Use de parent class as an attribute allowing access to all the variables and methods \n",
    "    raise_amt= 1.10\n",
    "    def __init__(self,first,last,pay,prog_lang):\n",
    "        super().__init__(first,last,pay)  # Will take this value from de parent class. super()\n",
    "        self.prog_lang = prog_lang\n",
    "\n",
    "class Manager(Employee):\n",
    "    def __init__(self,first,last,pay,employees=None):\n",
    "        super().__init__(first,last,pay)\n",
    "        if employees is None:\n",
    "            self.employees = []\n",
    "        else:\n",
    "            self.employees = employees\n",
    "    \n",
    "    def add_emp(self,emp):\n",
    "        if emp not in self.employees:\n",
    "            self.employees.append(emp)\n",
    "    def remove_emp(self,emp):\n",
    "        if emp in self.employees:\n",
    "            self.employees.remove(emp)\n",
    "    def print_emp(self):\n",
    "        for emp in self.employees:\n",
    "            print ('->-',emp.fullname())\n",
    "\n"
   ]
  },
  {
   "cell_type": "code",
   "execution_count": 15,
   "metadata": {
    "tags": []
   },
   "outputs": [
    {
     "output_type": "stream",
     "name": "stdout",
     "text": "{'first': 'Test', 'last': 'Employee', 'email': 'Test.Employee@email.com', 'pay': 60000}\n{'first': 'Test', 'last': 'Employee', 'email': 'Test.Employee@email.com', 'pay': 60000, 'raise_amt': 1.05}\nFalse\nEmployee('Test','Employee'',60000)'\n"
    }
   ],
   "source": [
    "\n",
    "# CHECKING CODE FROM OOP CLASSES ABOVE \n",
    "print(emp2.__dict__) \n",
    "emp2.raise_amt=1.05 # After you can see raise_amt in the variable\n",
    "print(emp2.__dict__) # Use to see the content of the object \n",
    "\n",
    "manager1=Manager('Gio','Garcia',800000000,[emp1])\n",
    "manager1.email\n",
    "manager1.add_emp(emp2)\n",
    "manager1.remove_emp(emp1)\n",
    "# manager1.print_emp()\n",
    "print(isinstance(manager1,Developer)) #Built in function that return where the first element is an intance or not from the second one\n",
    "\n",
    "example2= Developer.from_strg_separate(emp_as_str4)\n",
    "example2.prog_lang\n",
    "# print(example2.__dict__)\n",
    "\n",
    "# import datetime\n",
    "# mydate=datetime.date(2016,7,11)\n",
    "# print (mydate)\n",
    "\n",
    "# print(Employee.is_workday(mydate))\n",
    "print(emp2) # This is modify with the special method repr"
   ]
  },
  {
   "cell_type": "code",
   "execution_count": 1,
   "metadata": {
    "tags": []
   },
   "outputs": [
    {
     "output_type": "stream",
     "name": "stdout",
     "text": "--Call--\n> c:\\users\\ggd\\.virtualenvs\\djangoprojects-mvt6mntk\\lib\\site-packages\\ipython\\core\\displayhook.py(252)__call__()\n-> def __call__(self, result=None):\n"
    }
   ],
   "source": [
    "import pdb\n",
    "x=2\n",
    "y=[2,5]\n",
    "pdb.set_trace() # Set before the error and allows to check the avariables \n",
    "# z=y+x"
   ]
  },
  {
   "cell_type": "code",
   "execution_count": 3,
   "metadata": {
    "tags": []
   },
   "outputs": [
    {
     "output_type": "stream",
     "name": "stdout",
     "text": "operation 9\n"
    }
   ],
   "source": [
    "class Mouse:\n",
    "    def __init__(self,right,left):\n",
    "        self.right = right \n",
    "        self.left= left \n",
    "#         self.combine= right +\" _+_ \"+ left # Some user are already using the attribute but it has to be update without affecting the current users\n",
    "    @property         # Allow me to use this method as an attribute   \n",
    "    def combine(self):\n",
    "        list_right=[]\n",
    "        list_left=[]\n",
    "        list_right= self.right.split(\" \")\n",
    "        list_left= self.left.split(\" \")\n",
    "        return (f'operation {int(list_right[1])+int(list_left[1])}')\n",
    "\n",
    "    @combine.setter # change the input without affecting the other original alternative\n",
    "    def combine(self,allbuttons):\n",
    "        right, left= allbuttons.split(' and ')\n",
    "        self.right = right \n",
    "        self.left= left \n",
    "\n",
    "    @combine.deleter # it gets run whenever with delete and atribute \n",
    "    def combine(self):\n",
    "        print('Deleted combine input!')\n",
    "        self.right = None #Not required if you want to keep the attributes \n",
    "        self.left= None\n",
    "\n",
    "\n",
    "mouse_1= Mouse(\"operation 1\",\"operation 2\") \n",
    "mouse_1.combine='operation 3 and operation 6' # Set new values in the object without afecting the class for the old objects \n",
    "print(mouse_1.combine)\n"
   ]
  },
  {
   "cell_type": "code",
   "execution_count": 31,
   "metadata": {
    "tags": []
   },
   "outputs": [
    {
     "output_type": "stream",
     "name": "stdout",
     "text": "Deleted combine input!\n"
    }
   ],
   "source": [
    "del mouse_1.combine"
   ]
  },
  {
   "cell_type": "code",
   "execution_count": 4,
   "metadata": {
    "tags": []
   },
   "outputs": [],
   "source": [
    "def calculate_frequencies(file_contents):\n",
    "    # Here is a list of punctuations and uninteresting words you can use to process your text\n",
    "    punctuations = '''!()-[]{};:'\"\\,<>./?@#$%^&*_~'''\n",
    "    uninteresting_words = [\"the\", \"a\", \"to\", \"if\", \"is\", \"it\", \"of\", \"and\", \"or\", \"an\", \"as\", \"i\", \"me\", \"my\", \\\n",
    "    \"we\", \"our\", \"ours\", \"you\", \"your\", \"yours\", \"he\", \"she\", \"him\", \"his\", \"her\", \"hers\", \"its\", \"they\", \"them\", \\\n",
    "    \"their\", \"what\", \"which\", \"who\", \"whom\", \"this\", \"that\", \"am\", \"are\", \"was\", \"were\", \"be\", \"been\", \"being\", \\\n",
    "    \"have\", \"has\", \"had\", \"do\", \"does\", \"did\", \"but\", \"at\", \"by\", \"with\", \"from\", \"here\", \"when\", \"where\", \"how\", \\\n",
    "    \"all\", \"any\", \"both\", \"each\", \"few\", \"more\", \"some\", \"such\", \"no\", \"nor\", \"too\", \"very\", \"can\", \"will\", \"just\"]\n",
    "    \n",
    "    # LEARNER CODE START HERE\n",
    "    clean_puntuation=''\n",
    "    clean_file_dic={}\n",
    "    for letter in file_contents:\n",
    "        if letter not in punctuations:\n",
    "            clean_puntuation=clean_puntuation+letter.lower()\n",
    "    for word in clean_puntuation.split(\" \"):            \n",
    "        if word not in uninteresting_words:    \n",
    "            if word in clean_file_dic:\n",
    "                clean_file_dic[word]+= 1\n",
    "            else:\n",
    "                clean_file_dic[word]= 1\n",
    "\n",
    "            \n",
    "    print(clean_file_dic)    \n",
    "        \n",
    "    # #wordcloud\n",
    "    # cloud = wordcloud.WordCloud()\n",
    "    # cloud.generate_from_frequencies()\n",
    "    # return cloud.to_array()\n",
    "    "
   ]
  },
  {
   "cell_type": "code",
   "execution_count": 5,
   "metadata": {
    "tags": []
   },
   "outputs": [
    {
     "output_type": "stream",
     "name": "stdout",
     "text": "{'accept': 1, 'love': 1, 'think': 1, 'deserve': 1, 'guess': 1, 'for': 1, 'lot': 1, 'reasons': 1, 'maybe': 1, 'we’ll': 1, 'never': 1, 'know': 1, 'most': 1, 'even': 1, 'don’t': 1, 'power': 1, 'choose': 2, 'come': 1, 'still': 2, 'go': 1, 'there': 1, 'things': 1, 'try': 1, 'feel': 1, 'okay': 1, 'about': 1}\n"
    }
   ],
   "source": [
    "calculate_frequencies(\"We accept the love we think we deserve. I guess we are who we are for a lot of reasons. And maybe we’ll never know most of them. But even if we don’t have the power to choose where we come from, we can still choose where we go from there. We can still do things. And we can try to feel okay about them.\".lower())"
   ]
  },
  {
   "cell_type": "code",
   "execution_count": 1,
   "metadata": {
    "tags": []
   },
   "outputs": [
    {
     "output_type": "stream",
     "name": "stdout",
     "text": "Collecting pillow\n  Downloading Pillow-7.2.0-cp38-cp38-win32.whl (1.8 MB)\nInstalling collected packages: pillow\nSuccessfully installed pillow-7.2.0\nNote: you may need to restart the kernel to use updated packages.\n"
    }
   ],
   "source": [
    "pip install pillow"
   ]
  },
  {
   "cell_type": "code",
   "execution_count": null,
   "metadata": {},
   "outputs": [],
   "source": []
  }
 ],
 "metadata": {
  "kernelspec": {
   "display_name": "Python 3.8.3 32-bit ('DjangoProjects-mvt6MnTk': venv)",
   "language": "python",
   "name": "python38332bitdjangoprojectsmvt6mntkvenv256bdf631ae441f3afa6fb3525600e72"
  },
  "language_info": {
   "codemirror_mode": {
    "name": "ipython",
    "version": 3
   },
   "file_extension": ".py",
   "mimetype": "text/x-python",
   "name": "python",
   "nbconvert_exporter": "python",
   "pygments_lexer": "ipython3",
   "version": "3.8.3-final"
  }
 },
 "nbformat": 4,
 "nbformat_minor": 2
}