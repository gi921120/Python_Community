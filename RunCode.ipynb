{
 "cells": [
  {
   "cell_type": "code",
   "execution_count": 25,
   "metadata": {},
   "outputs": [
    {
     "data": {
      "text/plain": [
       "28"
      ]
     },
     "execution_count": 25,
     "metadata": {},
     "output_type": "execute_result"
    }
   ],
   "source": [
    "def BornYear(birthYear):\n",
    "    birthYear= 2020-birthYear\n",
    "    return birthYear\n",
    "BornYear(1992)"
   ]
  },
  {
   "cell_type": "code",
   "execution_count": 27,
   "metadata": {},
   "outputs": [
    {
     "name": "stdout",
     "output_type": "stream",
     "text": [
      "xx\n",
      "xx\n",
      "xx\n",
      "xx\n",
      "xxxxx\n"
     ]
    }
   ],
   "source": [
    "numbers =[2,2,2,2,5]\n",
    "for value in numbers:\n",
    "    #print (value)\n",
    "    output =''\n",
    "    for x in range(1,value+1):\n",
    "        output +='x'\n",
    "    print (output)    \n"
   ]
  },
  {
   "cell_type": "code",
   "execution_count": 28,
   "metadata": {},
   "outputs": [
    {
     "data": {
      "text/plain": [
       "'Mary'"
      ]
     },
     "execution_count": 28,
     "metadata": {},
     "output_type": "execute_result"
    }
   ],
   "source": [
    "names= ['Gio','Wayne', 'Arthur','Mary']\n",
    "names[-1]"
   ]
  },
  {
   "cell_type": "code",
   "execution_count": 30,
   "metadata": {},
   "outputs": [
    {
     "name": "stdout",
     "output_type": "stream",
     "text": [
      "5\n"
     ]
    }
   ],
   "source": [
    "max=numbers[0]\n",
    "for num in numbers:\n",
    "    if num>max:\n",
    "        max=num\n",
    "print (max)        "
   ]
  },
  {
   "cell_type": "code",
   "execution_count": 42,
   "metadata": {},
   "outputs": [
    {
     "name": "stdout",
     "output_type": "stream",
     "text": [
      "1\n",
      "2\n",
      "3\n",
      "4\n",
      "30\n",
      "6\n",
      "5\n",
      "6\n",
      "7\n"
     ]
    }
   ],
   "source": [
    "matrix=[\n",
    "    [1,2,3],\n",
    "    [4,5,6],\n",
    "    [5,6,7]\n",
    "]\n",
    "matrix[1][1]=30\n",
    "#print(matrix[1][1])\n",
    "for row in matrix: ## Iterate for all the items\n",
    "    for item in row:\n",
    "        print (item)"
   ]
  },
  {
   "cell_type": "code",
   "execution_count": 44,
   "metadata": {},
   "outputs": [
    {
     "name": "stdout",
     "output_type": "stream",
     "text": [
      "[2, 5]\n"
     ]
    }
   ],
   "source": [
    "uniques=[]\n",
    "for number in numbers:\n",
    "    if number not in uniques:\n",
    "        uniques.append(number)\n",
    "print (uniques)"
   ]
  },
  {
   "cell_type": "code",
   "execution_count": 2,
   "metadata": {},
   "outputs": [
    {
     "name": "stdout",
     "output_type": "stream",
     "text": [
      "Three ! Two ! \n"
     ]
    }
   ],
   "source": [
    "phone =input(\"Phone: \")\n",
    "digitsMaping={\n",
    "    \"1\":'One',\n",
    "    \"2\": \"Two\",\n",
    "    \"3\" :\"Three\"\n",
    "}\n",
    "output=\"\"\n",
    "for ch in phone:\n",
    "    output+= digitsMaping.get(ch,\"!\") +\" \"\n",
    "print(output)"
   ]
  },
  {
   "cell_type": "code",
   "execution_count": 2,
   "metadata": {},
   "outputs": [
    {
     "name": "stdout",
     "output_type": "stream",
     "text": [
      "\n",
      "Esto imprime Hello +name…\n",
      "\n"
     ]
    }
   ],
   "source": [
    "def funtion()"
   ]
  },
  {
   "cell_type": "code",
   "execution_count": 21,
   "metadata": {},
   "outputs": [
    {
     "name": "stdout",
     "output_type": "stream",
     "text": [
      "draw\n"
     ]
    }
   ],
   "source": [
    "class PointClient:\n",
    "    \n",
    "    def move(self):\n",
    "        print(\"move\")\n",
    "    \n",
    "    def draw(self):\n",
    "        print(\"draw\")\n",
    "point1=PointClient() # Object definition \n",
    "point1.draw() # access the method in the object \n",
    "point1.x=10 # you can also create atributes. These are variable that belong to a particular object\n",
    "### You can create as many objects as you want from a class but each object is different and has independent atributes "
   ]
  },
  {
   "cell_type": "code",
   "execution_count": 23,
   "metadata": {},
   "outputs": [
    {
     "name": "stdout",
     "output_type": "stream",
     "text": [
      "Walking...\n"
     ]
    }
   ],
   "source": [
    "class Move():\n",
    "    def walk(self):\n",
    "        print(\"Walking...\")\n",
    "class Dinasour(Move):\n",
    "    pass\n",
    "class Cat(Move):\n",
    "    pass\n",
    "dino1= Dinasour()\n",
    "dino1.walk()"
   ]
  },
  {
   "cell_type": "code",
   "execution_count": 8,
   "metadata": {},
   "outputs": [
    {
     "name": "stdout",
     "output_type": "stream",
     "text": [
      "<generator object Path.glob at 0x00000157C6E18900>\n",
      "Funtions.py\n",
      "Gioapp.py\n"
     ]
    }
   ],
   "source": [
    "from pathlib import Path\n",
    "\n",
    "path= Path() # By default use de current path. You can define the directory or a subfolder \n",
    "print(path.glob('*')) # Search for files and directories in the path. It create a generator object \n",
    "for file in path.glob('*.py'): #Search and print all the files .py\n",
    "    print (file) \n"
   ]
  },
  {
   "cell_type": "code",
   "execution_count": 9,
   "metadata": {},
   "outputs": [
    {
     "output_type": "stream",
     "name": "stdout",
     "text": "2\n4\n"
    }
   ],
   "source": [
    "def square (num):\n",
    "    return num%2==0\n",
    "\n",
    "\n",
    "my_nums=[1,2,3,4,5]\n",
    "for i in filter(square,my_nums): \n",
    "    print(i)\n",
    "\n",
    "\n",
    "lambda my_nums:my_nums%2==0"
   ]
  },
  {
   "cell_type": "code",
   "execution_count": 31,
   "metadata": {},
   "outputs": [
    {
     "output_type": "execute_result",
     "data": {
      "text/plain": "[1, 4, 9, 16, 25]"
     },
     "metadata": {},
     "execution_count": 31
    }
   ],
   "source": [
    "my_nums=[1,2,3,4,5]\n",
    "list(map(lambda my_nums:my_nums**2,my_nums))\n",
    "list(filter(lambda my_nums:my_nums%2==0,my_nums))"
   ]
  },
  {
   "cell_type": "code",
   "execution_count": 36,
   "metadata": {},
   "outputs": [],
   "source": [
    "class PointClient():\n",
    "    def __init__(self,x,y,gio):# Use to initialize the object and this metho \n",
    "        self.x=x\n",
    "        self.y=y\n",
    "        self.g=gio"
   ]
  },
  {
   "cell_type": "code",
   "execution_count": 1,
   "metadata": {},
   "outputs": [
    {
     "output_type": "execute_result",
     "data": {
      "text/plain": "'POLYMORPHISM'"
     },
     "metadata": {},
     "execution_count": 1
    }
   ],
   "source": [
    "'polymorphism'.upper()"
   ]
  },
  {
   "cell_type": "code",
   "execution_count": 34,
   "metadata": {},
   "outputs": [
    {
     "output_type": "stream",
     "name": "stdout",
     "text": "Did you miss me? tata\nHello cat? babas\n"
    }
   ],
   "source": [
    "class Dog():\n",
    "    dueno='Gio'\n",
    "    def __init__(self, name):\n",
    "        self.name = name\n",
    "\n",
    "\n",
    "    def DuenoAsk(self):\n",
    "        return print (f'Did you miss me? {self.name}')\n",
    "\n",
    "\n",
    "class Cat():\n",
    "    Owner='Mom'\n",
    "    def __init__(self, name):\n",
    "        self.name = name\n",
    "    \n",
    "    def DuenoAsk(self):\n",
    "        return print (f'Hello cat? {self.name}')\n",
    "\n",
    "\n",
    "tata=Dog('tata')\n",
    "babas=Cat('babas')\n",
    "\n",
    "for pet in [tata,babas]:\n",
    "    pet.DuenoAsk()\n"
   ]
  },
  {
   "cell_type": "code",
   "execution_count": 61,
   "metadata": {},
   "outputs": [
    {
     "output_type": "stream",
     "name": "stdout",
     "text": "A book object has been deleted\n"
    }
   ],
   "source": [
    "class Phone():\n",
    "    def __init__(self,brand,cost,lenght):\n",
    "        self.bran= brand\n",
    "        self.cost= cost\n",
    "        self.lenght= lenght\n",
    "\n",
    "    def __str__(self):\n",
    "        return(f'The select phone is {self.bran} an has a cost of {self.cost}. ') # String representation of the class\n",
    "\n",
    "    def __len__(self):\n",
    "        return self.lenght\n",
    "\n",
    "    def __del__(self):\n",
    "        print ('A book object has been deleted')\n",
    "\n",
    "Moto= Phone('Motorola', 500, 10)\n",
    "\n",
    "str(Moto)# So if I call print(Moto) I will have the same result\n",
    "len(Moto)# If I call len  it will return the value asociate for the object\n",
    "del Moto # Will print the message asociate to the function\n"
   ]
  },
  {
   "cell_type": "code",
   "execution_count": null,
   "metadata": {},
   "outputs": [],
   "source": []
  }
 ],
 "metadata": {
  "kernelspec": {
   "display_name": "Python 3.8.3 64-bit ('DjangoProjects-Px6LmTI_': venv)",
   "language": "python",
   "name": "python38364bitdjangoprojectspx6lmtivenv4c378004a6274465beb998c638bb6e88"
  },
  "language_info": {
   "codemirror_mode": {
    "name": "ipython",
    "version": 3
   },
   "file_extension": ".py",
   "mimetype": "text/x-python",
   "name": "python",
   "nbconvert_exporter": "python",
   "pygments_lexer": "ipython3",
   "version": "3.8.3-final"
  }
 },
 "nbformat": 4,
 "nbformat_minor": 2
}