{
 "cells": [
  {
   "cell_type": "code",
   "execution_count": 25,
   "metadata": {},
   "outputs": [
    {
     "output_type": "execute_result",
     "data": {
      "text/plain": "28"
     },
     "metadata": {},
     "execution_count": 25
    }
   ],
   "source": [
    "def BornYear(birthYear):\n",
    "    birthYear= 2020-birthYear\n",
    "    return birthYear\n",
    "BornYear(1992)"
   ]
  },
  {
   "cell_type": "code",
   "execution_count": 27,
   "metadata": {},
   "outputs": [
    {
     "output_type": "stream",
     "name": "stdout",
     "text": "xx\nxx\nxx\nxx\nxxxxx\n"
    }
   ],
   "source": [
    "numbers =[2,2,2,2,5]\n",
    "for value in numbers:\n",
    "    #print (value)\n",
    "    output =''\n",
    "    for x in range(1,value+1):\n",
    "        output +='x'\n",
    "    print (output)    \n"
   ]
  },
  {
   "cell_type": "code",
   "execution_count": 28,
   "metadata": {},
   "outputs": [
    {
     "output_type": "execute_result",
     "data": {
      "text/plain": "'Mary'"
     },
     "metadata": {},
     "execution_count": 28
    }
   ],
   "source": [
    "names= ['Gio','Wayne', 'Arthur','Mary']\n",
    "names[-1]"
   ]
  },
  {
   "cell_type": "code",
   "execution_count": 30,
   "metadata": {},
   "outputs": [
    {
     "output_type": "stream",
     "name": "stdout",
     "text": "5\n"
    }
   ],
   "source": [
    "max=numbers[0]\n",
    "for num in numbers:\n",
    "    if num>max:\n",
    "        max=num\n",
    "print (max)        "
   ]
  },
  {
   "cell_type": "code",
   "execution_count": 42,
   "metadata": {},
   "outputs": [
    {
     "output_type": "stream",
     "name": "stdout",
     "text": "1\n2\n3\n4\n30\n6\n5\n6\n7\n"
    }
   ],
   "source": [
    "matrix=[\n",
    "    [1,2,3],\n",
    "    [4,5,6],\n",
    "    [5,6,7]\n",
    "]\n",
    "matrix[1][1]=30\n",
    "#print(matrix[1][1])\n",
    "for row in matrix: ## Iterate for all the items\n",
    "    for item in row:\n",
    "        print (item)"
   ]
  },
  {
   "cell_type": "code",
   "execution_count": 44,
   "metadata": {},
   "outputs": [
    {
     "output_type": "stream",
     "name": "stdout",
     "text": "[2, 5]\n"
    }
   ],
   "source": [
    "uniques=[]\n",
    "for number in numbers:\n",
    "    if number not in uniques:\n",
    "        uniques.append(number)\n",
    "print (uniques)"
   ]
  },
  {
   "cell_type": "code",
   "execution_count": 2,
   "metadata": {},
   "outputs": [
    {
     "output_type": "stream",
     "name": "stdout",
     "text": "Three ! Two ! \n"
    }
   ],
   "source": [
    "phone =input(\"Phone: \")\n",
    "digitsMaping={\n",
    "    \"1\":'One',\n",
    "    \"2\": \"Two\",\n",
    "    \"3\" :\"Three\"\n",
    "}\n",
    "output=\"\"\n",
    "for ch in phone:\n",
    "    output+= digitsMaping.get(ch,\"!\") +\" \"\n",
    "print(output)"
   ]
  },
  {
   "cell_type": "code",
   "execution_count": 2,
   "metadata": {},
   "outputs": [
    {
     "output_type": "stream",
     "name": "stdout",
     "text": "\nEsto imprime Hello +name…\n\n"
    }
   ],
   "source": [
    "def funtion()"
   ]
  },
  {
   "cell_type": "code",
   "execution_count": 21,
   "metadata": {},
   "outputs": [
    {
     "output_type": "stream",
     "name": "stdout",
     "text": "draw\n"
    }
   ],
   "source": [
    "class PointClient:\n",
    "    \n",
    "    def move(self):\n",
    "        print(\"move\")\n",
    "    \n",
    "    def draw(self):\n",
    "        print(\"draw\")\n",
    "point1=PointClient() # Object definition \n",
    "point1.draw() # access the method in the object \n",
    "point1.x=10 # you can also create atributes. These are variable that belong to a particular object\n",
    "### You can create as many objects as you want from a class but each object is different and has independent atributes "
   ]
  },
  {
   "cell_type": "code",
   "execution_count": 23,
   "metadata": {},
   "outputs": [
    {
     "output_type": "stream",
     "name": "stdout",
     "text": "Walking...\n"
    }
   ],
   "source": [
    "class Move():\n",
    "    def walk(self):\n",
    "        print(\"Walking...\")\n",
    "class Dinasour(Move):\n",
    "    pass\n",
    "class Cat(Move):\n",
    "    pass\n",
    "dino1= Dinasour()\n",
    "dino1.walk()"
   ]
  },
  {
   "cell_type": "code",
   "execution_count": 8,
   "metadata": {},
   "outputs": [
    {
     "output_type": "stream",
     "name": "stdout",
     "text": "<generator object Path.glob at 0x00000157C6E18900>\nFuntions.py\nGioapp.py\n"
    }
   ],
   "source": [
    "from pathlib import Path\n",
    "\n",
    "path= Path() # By default use de current path. You can define the directory or a subfolder \n",
    "print(path.glob('*')) # Search for files and directories in the path. It create a generator object \n",
    "for file in path.glob('*.py'): #Search and print all the files .py\n",
    "    print (file) \n"
   ]
  },
  {
   "cell_type": "code",
   "execution_count": null,
   "metadata": {},
   "outputs": [],
   "source": []
  }
 ],
 "metadata": {
  "language_info": {
   "codemirror_mode": {
    "name": "ipython",
    "version": 3
   },
   "file_extension": ".py",
   "mimetype": "text/x-python",
   "name": "python",
   "nbconvert_exporter": "python",
   "pygments_lexer": "ipython3",
   "version": "3.8.3-final"
  },
  "orig_nbformat": 2,
  "kernelspec": {
   "name": "python38364bitprojectdjango1wg4qziecvenv7842dba286fa4c23b06072444115b1f9",
   "display_name": "Python 3.8.3 64-bit ('ProjectDjango1-WG4QzIEC': venv)"
  }
 },
 "nbformat": 4,
 "nbformat_minor": 2
}