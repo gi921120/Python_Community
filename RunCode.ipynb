{
 "cells": [
  {
   "cell_type": "code",
   "execution_count": 1,
   "metadata": {},
   "outputs": [
    {
     "output_type": "execute_result",
     "data": {
      "text/plain": "28"
     },
     "metadata": {},
     "execution_count": 1
    }
   ],
   "source": [
    "def BornYear(birthYear):\n",
    "    birthYear= 2020-birthYear\n",
    "    return birthYear\n",
    "BornYear(1992)"
   ]
  },
  {
   "cell_type": "code",
   "execution_count": 2,
   "metadata": {},
   "outputs": [
    {
     "output_type": "stream",
     "name": "stdout",
     "text": "xx\nxx\nxx\nxx\nxxxxx\n"
    }
   ],
   "source": [
    "numbers =[2,2,2,2,5]\n",
    "for value in numbers:\n",
    "    #print (value)\n",
    "    output =''\n",
    "    for x in range(1,value+1):\n",
    "        output +='x'\n",
    "    print (output)    \n"
   ]
  },
  {
   "cell_type": "code",
   "execution_count": 3,
   "metadata": {},
   "outputs": [
    {
     "output_type": "execute_result",
     "data": {
      "text/plain": "'Mary'"
     },
     "metadata": {},
     "execution_count": 3
    }
   ],
   "source": [
    "names= ['Gio','Wayne', 'Arthur','Mary']\n",
    "names[-1]"
   ]
  },
  {
   "cell_type": "code",
   "execution_count": 4,
   "metadata": {},
   "outputs": [
    {
     "output_type": "stream",
     "name": "stdout",
     "text": "5\n"
    }
   ],
   "source": [
    "max=numbers[0]\n",
    "for num in numbers:\n",
    "    if num>max:\n",
    "        max=num\n",
    "print (max)        "
   ]
  },
  {
   "cell_type": "code",
   "execution_count": 5,
   "metadata": {},
   "outputs": [
    {
     "output_type": "stream",
     "name": "stdout",
     "text": "1\n2\n3\n4\n30\n6\n5\n6\n7\n"
    }
   ],
   "source": [
    "matrix=[\n",
    "    [1,2,3],\n",
    "    [4,5,6],\n",
    "    [5,6,7]\n",
    "]\n",
    "matrix[1][1]=30\n",
    "#print(matrix[1][1])\n",
    "for row in matrix: ## Iterate for all the items\n",
    "    for item in row:\n",
    "        print (item)"
   ]
  },
  {
   "cell_type": "code",
   "execution_count": 6,
   "metadata": {},
   "outputs": [
    {
     "output_type": "stream",
     "name": "stdout",
     "text": "[2, 5]\n"
    }
   ],
   "source": [
    "uniques=[]\n",
    "for number in numbers:\n",
    "    if number not in uniques:\n",
    "        uniques.append(number)\n",
    "print (uniques)"
   ]
  },
  {
   "cell_type": "code",
   "execution_count": 7,
   "metadata": {},
   "outputs": [
    {
     "output_type": "stream",
     "name": "stdout",
     "text": "! Two \n"
    }
   ],
   "source": [
    "phone =input(\"Phone: \")\n",
    "digitsMaping={\n",
    "    \"1\":'One',\n",
    "    \"2\": \"Two\",\n",
    "    \"3\" :\"Three\"\n",
    "}\n",
    "output=\"\"\n",
    "for ch in phone:\n",
    "    output+= digitsMaping.get(ch,\"!\") +\" \"\n",
    "print(output)"
   ]
  },
  {
   "cell_type": "code",
   "execution_count": 8,
   "metadata": {},
   "outputs": [
    {
     "output_type": "error",
     "ename": "SyntaxError",
     "evalue": "invalid syntax (<ipython-input-8-f7445b2f3b92>, line 1)",
     "traceback": [
      "\u001b[1;36m  File \u001b[1;32m\"<ipython-input-8-f7445b2f3b92>\"\u001b[1;36m, line \u001b[1;32m1\u001b[0m\n\u001b[1;33m    def funtion()\u001b[0m\n\u001b[1;37m                 ^\u001b[0m\n\u001b[1;31mSyntaxError\u001b[0m\u001b[1;31m:\u001b[0m invalid syntax\n"
     ]
    }
   ],
   "source": [
    "def funtion()"
   ]
  },
  {
   "cell_type": "code",
   "execution_count": 9,
   "metadata": {},
   "outputs": [
    {
     "output_type": "stream",
     "name": "stdout",
     "text": "draw\n"
    }
   ],
   "source": [
    "class PointClient:\n",
    "    \n",
    "    def move(self):\n",
    "        print(\"move\")\n",
    "    \n",
    "    def draw(self):\n",
    "        print(\"draw\")\n",
    "point1=PointClient() # Object definition \n",
    "point1.draw() # access the method in the object \n",
    "point1.x=10 # you can also create atributes. These are variable that belong to a particular object\n",
    "### You can create as many objects as you want from a class but each object is different and has independent atributes "
   ]
  },
  {
   "cell_type": "code",
   "execution_count": 10,
   "metadata": {},
   "outputs": [
    {
     "output_type": "stream",
     "name": "stdout",
     "text": "Walking...\n"
    }
   ],
   "source": [
    "class Move():\n",
    "    def walk(self):\n",
    "        print(\"Walking...\")\n",
    "class Dinasour(Move):\n",
    "    pass\n",
    "class Cat(Move):\n",
    "    pass\n",
    "dino1= Dinasour()\n",
    "dino1.walk()"
   ]
  },
  {
   "cell_type": "code",
   "execution_count": 11,
   "metadata": {},
   "outputs": [
    {
     "output_type": "stream",
     "name": "stdout",
     "text": "<generator object Path.glob at 0x0000022B1409DC10>\nFuntions.py\nGioapp.py\n"
    }
   ],
   "source": [
    "from pathlib import Path\n",
    "\n",
    "path= Path() # By default use de current path. You can define the directory or a subfolder \n",
    "print(path.glob('*')) # Search for files and directories in the path. It create a generator object \n",
    "for file in path.glob('*.py'): #Search and print all the files .py\n",
    "    print (file) \n"
   ]
  },
  {
   "cell_type": "code",
   "execution_count": 12,
   "metadata": {},
   "outputs": [
    {
     "output_type": "stream",
     "name": "stdout",
     "text": "2\n4\n"
    },
    {
     "output_type": "execute_result",
     "data": {
      "text/plain": "<function __main__.<lambda>(my_nums)>"
     },
     "metadata": {},
     "execution_count": 12
    }
   ],
   "source": [
    "def square (num):\n",
    "    return num%2==0\n",
    "\n",
    "\n",
    "my_nums=[1,2,3,4,5]\n",
    "for i in filter(square,my_nums): \n",
    "    print(i)\n",
    "\n",
    "\n",
    "lambda my_nums:my_nums%2==0"
   ]
  },
  {
   "cell_type": "code",
   "execution_count": 13,
   "metadata": {},
   "outputs": [
    {
     "output_type": "execute_result",
     "data": {
      "text/plain": "[2, 4]"
     },
     "metadata": {},
     "execution_count": 13
    }
   ],
   "source": [
    "my_nums=[1,2,3,4,5]\n",
    "list(map(lambda my_nums:my_nums**2,my_nums))\n",
    "list(filter(lambda my_nums:my_nums%2==0,my_nums))"
   ]
  },
  {
   "cell_type": "code",
   "execution_count": 14,
   "metadata": {},
   "outputs": [],
   "source": [
    "class PointClient():\n",
    "    def __init__(self,x,y,gio):# Use to initialize the object and this metho \n",
    "        self.x=x\n",
    "        self.y=y\n",
    "        self.g=gio"
   ]
  },
  {
   "cell_type": "code",
   "execution_count": 15,
   "metadata": {},
   "outputs": [
    {
     "output_type": "execute_result",
     "data": {
      "text/plain": "'POLYMORPHISM'"
     },
     "metadata": {},
     "execution_count": 15
    }
   ],
   "source": [
    "'polymorphism'.upper()"
   ]
  },
  {
   "cell_type": "code",
   "execution_count": 16,
   "metadata": {},
   "outputs": [
    {
     "output_type": "stream",
     "name": "stdout",
     "text": "Did you miss me? tata\nHello cat? babas\n"
    }
   ],
   "source": [
    "class Dog():\n",
    "    dueno='Gio'\n",
    "    def __init__(self, name):\n",
    "        self.name = name\n",
    "\n",
    "\n",
    "    def DuenoAsk(self):\n",
    "        return print (f'Did you miss me? {self.name}')\n",
    "\n",
    "\n",
    "class Cat():\n",
    "    Owner='Mom'\n",
    "    def __init__(self, name):\n",
    "        self.name = name\n",
    "    \n",
    "    def DuenoAsk(self):\n",
    "        return print (f'Hello cat? {self.name}')\n",
    "\n",
    "\n",
    "tata=Dog('tata')\n",
    "babas=Cat('babas')\n",
    "\n",
    "for pet in [tata,babas]:\n",
    "    pet.DuenoAsk()\n"
   ]
  },
  {
   "cell_type": "code",
   "execution_count": 17,
   "metadata": {},
   "outputs": [
    {
     "output_type": "stream",
     "name": "stdout",
     "text": "A book object has been deleted\n"
    }
   ],
   "source": [
    "class Phone():\n",
    "    def __init__(self,brand,cost,lenght):\n",
    "        self.bran= brand\n",
    "        self.cost= cost\n",
    "        self.lenght= lenght\n",
    "\n",
    "    def __str__(self):\n",
    "        return(f'The select phone is {self.bran} an has a cost of {self.cost}. ') # String representation of the class\n",
    "\n",
    "    def __len__(self):\n",
    "        return self.lenght\n",
    "\n",
    "    def __del__(self):\n",
    "        print ('A book object has been deleted')\n",
    "\n",
    "Moto= Phone('Motorola', 500, 10)\n",
    "\n",
    "str(Moto)# So if I call print(Moto) I will have the same result\n",
    "len(Moto)# If I call len  it will return the value asociate for the object\n",
    "del Moto # Will print the message asociate to the function\n"
   ]
  },
  {
   "cell_type": "code",
   "execution_count": 33,
   "metadata": {},
   "outputs": [
    {
     "output_type": "stream",
     "name": "stdout",
     "text": "Invalid Value\n"
    }
   ],
   "source": [
    "try: \n",
    "    a= int(input('Age'))\n",
    "except ValueError:\n",
    "    print ('Invalid Value')"
   ]
  },
  {
   "cell_type": "code",
   "execution_count": 13,
   "metadata": {},
   "outputs": [],
   "source": [
    "# This concept of decorators is use it a lot in web programming \n",
    "\n",
    "def new_decorator(original_function):  #Take a function as a parameter \n",
    "    def inside_function(): #Extra functionality that you want for the original function \n",
    "        print ('Extra code , before original function')\n",
    "\n",
    "        original_function()         # Execution of original function \n",
    "\n",
    "        print('Some extra code, after the original function')\n",
    "    return inside_function\n",
    "\n",
    "\n",
    "\n",
    "def need_decorator():\n",
    "    print ('Needs a decorartor')\n",
    "\n",
    "decorated_function= new_decorator(need_decorator) # This is the same that using the operador decorator @\n",
    "\n",
    "@new_decorator #This add the extra functionality without alterate the function. \n",
    "def need_decorator():\n",
    "    print ('Needs a decorartor')\n"
   ]
  },
  {
   "cell_type": "code",
   "execution_count": 14,
   "metadata": {},
   "outputs": [
    {
     "output_type": "stream",
     "name": "stdout",
     "text": "Extra code , before original function\nNeeds a decorartor\nSome extra code, after the original function\n"
    }
   ],
   "source": [
    "need_decorator()"
   ]
  },
  {
   "cell_type": "code",
   "execution_count": 1,
   "metadata": {},
   "outputs": [],
   "source": [
    "def fibona(n):\n",
    "    a=1\n",
    "    b=1\n",
    "    for x in range(n):\n",
    "        yield a\n",
    "        a,b = b,a+b"
   ]
  },
  {
   "cell_type": "code",
   "execution_count": 6,
   "metadata": {},
   "outputs": [
    {
     "output_type": "stream",
     "name": "stdout",
     "text": "1\n1\n2\n3\n5\n8\n13\n21\n34\n55\n89\n144\n233\n377\n610\n987\n1597\n2584\n4181\n6765\n"
    }
   ],
   "source": [
    "for i in fibona(20):\n",
    "    print (i)\n"
   ]
  },
  {
   "cell_type": "code",
   "execution_count": null,
   "metadata": {},
   "outputs": [],
   "source": []
  }
 ],
 "metadata": {
  "kernelspec": {
   "display_name": "Python 3.8.3 64-bit ('ProjectDjango1-WG4QzIEC': venv)",
   "language": "python",
   "name": "python38364bitprojectdjango1wg4qziecvenv7842dba286fa4c23b06072444115b1f9"
  },
  "language_info": {
   "codemirror_mode": {
    "name": "ipython",
    "version": 3
   },
   "file_extension": ".py",
   "mimetype": "text/x-python",
   "name": "python",
   "nbconvert_exporter": "python",
   "pygments_lexer": "ipython3",
   "version": "3.8.3-final"
  }
 },
 "nbformat": 4,
 "nbformat_minor": 2
}