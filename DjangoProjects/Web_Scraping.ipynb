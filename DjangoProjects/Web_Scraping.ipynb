{
 "cells": [
  {
   "cell_type": "code",
   "execution_count": 2,
   "metadata": {},
   "outputs": [],
   "source": [
    "import requests\n",
    "import bs4"
   ]
  },
  {
   "cell_type": "code",
   "execution_count": 3,
   "metadata": {},
   "outputs": [],
   "source": [
    "result= requests.get(\"https://todoist.com/app/#start\")"
   ]
  },
  {
   "cell_type": "code",
   "execution_count": 4,
   "metadata": {},
   "outputs": [],
   "source": [
    "soup= bs4.BeautifulSoup(result.text,\"lxml\")\n",
    "#soup.select('div')#[2].getText()"
   ]
  },
  {
   "cell_type": "code",
   "execution_count": 5,
   "metadata": {},
   "outputs": [],
   "source": [
    "res= requests.get(\"https://en.wikipedia.org/wiki/Grace_Hopper\")"
   ]
  },
  {
   "cell_type": "code",
   "execution_count": 6,
   "metadata": {},
   "outputs": [],
   "source": [
    "soup2= bs4.BeautifulSoup(res.text,\"lxml\")"
   ]
  },
  {
   "cell_type": "code",
   "execution_count": 7,
   "metadata": {},
   "outputs": [
    {
     "output_type": "execute_result",
     "data": {
      "text/plain": "[<span class=\"toctext\">Early life and education</span>,\n <span class=\"toctext\">Career</span>,\n <span class=\"toctext\">World War II</span>,\n <span class=\"toctext\">UNIVAC</span>,\n <span class=\"toctext\">COBOL</span>,\n <span class=\"toctext\">Standards</span>,\n <span class=\"toctext\">Retirement</span>,\n <span class=\"toctext\">Post-retirement</span>,\n <span class=\"toctext\">Anecdotes</span>,\n <span class=\"toctext\">Death</span>,\n <span class=\"toctext\">Dates of rank</span>,\n <span class=\"toctext\">Awards and honors</span>,\n <span class=\"toctext\">Military awards</span>,\n <span class=\"toctext\">Other awards</span>,\n <span class=\"toctext\">Legacy</span>,\n <span class=\"toctext\">Places</span>,\n <span class=\"toctext\">Programs</span>,\n <span class=\"toctext\">In popular culture</span>,\n <span class=\"toctext\">Grace Hopper Celebration of Women in Computing</span>,\n <span class=\"toctext\">Notes</span>,\n <span class=\"toctext\">Obituary notices</span>,\n <span class=\"toctext\">See also</span>,\n <span class=\"toctext\">References</span>,\n <span class=\"toctext\">Further reading</span>,\n <span class=\"toctext\">External links</span>]"
     },
     "metadata": {},
     "execution_count": 7
    }
   ],
   "source": [
    "soup2.select(' .toctext')"
   ]
  },
  {
   "cell_type": "code",
   "execution_count": 8,
   "metadata": {},
   "outputs": [
    {
     "output_type": "stream",
     "name": "stdout",
     "text": "Early life and education\nCareer\nWorld War II\nUNIVAC\nCOBOL\nStandards\nRetirement\nPost-retirement\nAnecdotes\nDeath\nDates of rank\nAwards and honors\nMilitary awards\nOther awards\nLegacy\nPlaces\nPrograms\nIn popular culture\nGrace Hopper Celebration of Women in Computing\nNotes\nObituary notices\nSee also\nReferences\nFurther reading\nExternal links\n"
    }
   ],
   "source": [
    "for i in soup2.select('.toctext'):\n",
    "    print (i.text)"
   ]
  },
  {
   "cell_type": "code",
   "execution_count": 9,
   "metadata": {},
   "outputs": [],
   "source": [
    "compuimage=soup2.select('.thumbimage')[0]"
   ]
  },
  {
   "cell_type": "code",
   "execution_count": 10,
   "metadata": {},
   "outputs": [
    {
     "output_type": "execute_result",
     "data": {
      "text/plain": "'//upload.wikimedia.org/wikipedia/commons/thumb/a/aa/Harvard_Mark_I_sign-up.agr.jpg/220px-Harvard_Mark_I_sign-up.agr.jpg'"
     },
     "metadata": {},
     "execution_count": 10
    }
   ],
   "source": [
    "compuimage['src']"
   ]
  },
  {
   "cell_type": "markdown",
   "metadata": {},
   "source": [
    "<img\n",
    "src=\"https://upload.wikimedia.org/wikipedia/commons/thumb/a/ad/Commodore_Grace_M._Hopper%2C_USN_%28covered%29.jpg/440px-Commodore_Grace_M._Hopper%2C_USN_%28covered%29.jpg\">\n"
   ]
  },
  {
   "cell_type": "code",
   "execution_count": 11,
   "metadata": {},
   "outputs": [],
   "source": [
    "image_link = requests.get(\"https://upload.wikimedia.org/wikipedia/commons/thumb/a/ad/Commodore_Grace_M._Hopper%2C_USN_%28covered%29.jpg/440px-Commodore_Grace_M._Hopper%2C_USN_%28covered%29.jpg\")"
   ]
  },
  {
   "cell_type": "code",
   "execution_count": 12,
   "metadata": {},
   "outputs": [],
   "source": [
    "f =open ('imagetext.jpg','wb')# Should be wb refer to write binary "
   ]
  },
  {
   "cell_type": "code",
   "execution_count": 13,
   "metadata": {},
   "outputs": [
    {
     "output_type": "execute_result",
     "data": {
      "text/plain": "54241"
     },
     "metadata": {},
     "execution_count": 13
    }
   ],
   "source": [
    "f.write(image_link.content)"
   ]
  },
  {
   "cell_type": "code",
   "execution_count": 14,
   "metadata": {},
   "outputs": [],
   "source": [
    "f.close()"
   ]
  },
  {
   "cell_type": "code",
   "execution_count": 15,
   "metadata": {},
   "outputs": [],
   "source": [
    "exercise=requests.get('https://webscraper.io/test-sites/e-commerce/allinone/phones')"
   ]
  },
  {
   "cell_type": "code",
   "execution_count": 18,
   "metadata": {},
   "outputs": [],
   "source": [
    "soup3=bs4.BeautifulSoup(exercise.text,'lxml')"
   ]
  },
  {
   "cell_type": "code",
   "execution_count": 37,
   "metadata": {},
   "outputs": [],
   "source": [
    "exercise2=requests.get('http://quotes.toscrape.com/')"
   ]
  },
  {
   "cell_type": "code",
   "execution_count": 52,
   "metadata": {},
   "outputs": [],
   "source": [
    "soup4=bs4.BeautifulSoup(exercise2.text,'lxml')"
   ]
  },
  {
   "cell_type": "code",
   "execution_count": 59,
   "metadata": {},
   "outputs": [
    {
     "output_type": "stream",
     "name": "stdout",
     "text": "{'Steve Martin', 'Jane Austen', 'Marilyn Monroe', 'Thomas A. Edison', 'Albert Einstein', 'André Gide', 'J.K. Rowling', 'Eleanor Roosevelt'}\n"
    }
   ],
   "source": [
    "authors = set()\n",
    "for name in soup4.select('.author'):\n",
    "    authors.add(name.text)\n",
    "print(authors)"
   ]
  },
  {
   "cell_type": "code",
   "execution_count": null,
   "metadata": {},
   "outputs": [],
   "source": []
  }
 ],
 "metadata": {
  "kernelspec": {
   "display_name": "Python 3.8.3 32-bit ('DjangoProjects-mvt6MnTk': venv)",
   "language": "python",
   "name": "python38332bitdjangoprojectsmvt6mntkvenv256bdf631ae441f3afa6fb3525600e72"
  },
  "language_info": {
   "codemirror_mode": {
    "name": "ipython",
    "version": 3
   },
   "file_extension": ".py",
   "mimetype": "text/x-python",
   "name": "python",
   "nbconvert_exporter": "python",
   "pygments_lexer": "ipython3",
   "version": "3.8.3-final"
  }
 },
 "nbformat": 4,
 "nbformat_minor": 2
}