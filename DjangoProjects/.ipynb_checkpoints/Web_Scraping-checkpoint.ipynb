{
 "cells": [
  {
   "cell_type": "code",
   "execution_count": 2,
   "metadata": {},
   "outputs": [],
   "source": [
    "import requests\n",
    "import bs4"
   ]
  },
  {
   "cell_type": "code",
   "execution_count": 10,
   "metadata": {},
   "outputs": [],
   "source": [
    "result= requests.get(\"https://todoist.com/app/#start\")"
   ]
  },
  {
   "cell_type": "code",
   "execution_count": 11,
   "metadata": {},
   "outputs": [
    {
     "data": {
      "text/plain": [
       "[<div class=\"loading_screen\" id=\"loading\">\n",
       " <div class=\"loading_screen--loader\">\n",
       " <svg class=\"loading_screen--logo\" height=\"64\" width=\"64\" xmlns=\"http://www.w3.org/2000/svg\">\n",
       " <g fill=\"none\" fill-rule=\"evenodd\">\n",
       " <path class=\"logo_bg\" d=\"M56.000016 0h-48c-4.4 0-8 3.6-8 8v48c0 4.4 3.6 8 8 8h48c4.4 0 8-3.6 8-8V8c0-4.4-3.6-8-8-8\" fill=\"#E44332\"></path>\n",
       " <g class=\"logo_stripe\" fill=\"#FFF\">\n",
       " <path d=\"M13.672368 29.985936c1.1304-.65152 25.34368-14.58496 25.89952-14.90592.5544-.32016.58224-1.30224-.03824-1.65632-.62096-.35408-1.79984-1.02368-2.23856-1.28048-.44656-.26048-1.24976-.40528-1.99472.02384-.30928.1784-21.00256 12.0768-21.69424\n",
       "                         12.46992-.82784.47072-1.85248.4768-2.67744-.0008-.65152-.37696-10.92864-6.3488-10.92864-6.3488v5.39712c2.66016 1.54912 9.2744 5.40128 10.87744 6.30624.95664.54016 1.87232.52688 2.79488-.0048\"></path>\n",
       " <path d=\"M13.672368 40.76952c1.1304-.65152 25.34368-14.58496 25.89952-14.90592.5544-.32.58224-1.30224-.03824-1.65632-.62096-.35408-1.79984-1.02368-2.23856-1.28048-.44656-.26048-1.24976-.40528-1.99472.02384-.30928.1784-21.00256 12.0768-21.69424\n",
       "                         12.46992-.82784.47072-1.85248.4768-2.67744-.0008-.65152-.37696-10.92864-6.3488-10.92864-6.3488v5.39712c2.66016 1.54912 9.2744 5.40128 10.87744 6.30624.95664.54016 1.87232.52688 2.79488-.0048\"></path>\n",
       " <path d=\"M13.672368 51.55312c1.1304-.65152 25.34368-14.58496 25.89952-14.90592.5544-.32.58224-1.30224-.03824-1.65632-.62096-.35408-1.79984-1.02368-2.23856-1.28048-.44656-.26048-1.24976-.40528-1.99472.02384-.30928.1784-21.00256 12.0768-21.69424\n",
       "                         12.46992-.82784.47072-1.85248.4768-2.67744-.0008-.65152-.37696-10.92864-6.3488-10.92864-6.3488v5.39712c2.66016 1.54912 9.2744 5.40128 10.87744 6.30624.95664.54016 1.87232.52688 2.79488-.0048\"></path>\n",
       " </g>\n",
       " </g>\n",
       " </svg>\n",
       " <svg class=\"loading_screen--spinner\" height=\"24\" viewbox=\"0 0 24 24\" width=\"24\">\n",
       " <g fill=\"none\" fill-rule=\"nonzero\">\n",
       " <path class=\"ring_thumb\" d=\"M17.945 3.958A9.955 9.955 0 0 0 12 2c-2.19 0-4.217.705-5.865 1.9L5.131 2.16A11.945 11.945 0 0 1 12 0c2.59 0 4.99.82 6.95 2.217l-1.005 1.741z\" fill=\"#E44331\"></path>\n",
       " <path class=\"ring_track\" d=\"M5.13 2.16L6.136 3.9A9.987 9.987 0 0 0 2 12c0 5.523 4.477 10 10 10s10-4.477 10-10a9.986 9.986 0 0 0-4.055-8.042l1.006-1.741A11.985 11.985 0 0 1 24 12c0 6.627-5.373 12-12 12S0 18.627 0 12c0-4.073 2.029-7.671 5.13-9.84z\" fill=\"#FCECEA\"></path>\n",
       " </g>\n",
       " </svg>\n",
       " </div>\n",
       " </div>,\n",
       " <div class=\"loading_screen--loader\">\n",
       " <svg class=\"loading_screen--logo\" height=\"64\" width=\"64\" xmlns=\"http://www.w3.org/2000/svg\">\n",
       " <g fill=\"none\" fill-rule=\"evenodd\">\n",
       " <path class=\"logo_bg\" d=\"M56.000016 0h-48c-4.4 0-8 3.6-8 8v48c0 4.4 3.6 8 8 8h48c4.4 0 8-3.6 8-8V8c0-4.4-3.6-8-8-8\" fill=\"#E44332\"></path>\n",
       " <g class=\"logo_stripe\" fill=\"#FFF\">\n",
       " <path d=\"M13.672368 29.985936c1.1304-.65152 25.34368-14.58496 25.89952-14.90592.5544-.32016.58224-1.30224-.03824-1.65632-.62096-.35408-1.79984-1.02368-2.23856-1.28048-.44656-.26048-1.24976-.40528-1.99472.02384-.30928.1784-21.00256 12.0768-21.69424\n",
       "                         12.46992-.82784.47072-1.85248.4768-2.67744-.0008-.65152-.37696-10.92864-6.3488-10.92864-6.3488v5.39712c2.66016 1.54912 9.2744 5.40128 10.87744 6.30624.95664.54016 1.87232.52688 2.79488-.0048\"></path>\n",
       " <path d=\"M13.672368 40.76952c1.1304-.65152 25.34368-14.58496 25.89952-14.90592.5544-.32.58224-1.30224-.03824-1.65632-.62096-.35408-1.79984-1.02368-2.23856-1.28048-.44656-.26048-1.24976-.40528-1.99472.02384-.30928.1784-21.00256 12.0768-21.69424\n",
       "                         12.46992-.82784.47072-1.85248.4768-2.67744-.0008-.65152-.37696-10.92864-6.3488-10.92864-6.3488v5.39712c2.66016 1.54912 9.2744 5.40128 10.87744 6.30624.95664.54016 1.87232.52688 2.79488-.0048\"></path>\n",
       " <path d=\"M13.672368 51.55312c1.1304-.65152 25.34368-14.58496 25.89952-14.90592.5544-.32.58224-1.30224-.03824-1.65632-.62096-.35408-1.79984-1.02368-2.23856-1.28048-.44656-.26048-1.24976-.40528-1.99472.02384-.30928.1784-21.00256 12.0768-21.69424\n",
       "                         12.46992-.82784.47072-1.85248.4768-2.67744-.0008-.65152-.37696-10.92864-6.3488-10.92864-6.3488v5.39712c2.66016 1.54912 9.2744 5.40128 10.87744 6.30624.95664.54016 1.87232.52688 2.79488-.0048\"></path>\n",
       " </g>\n",
       " </g>\n",
       " </svg>\n",
       " <svg class=\"loading_screen--spinner\" height=\"24\" viewbox=\"0 0 24 24\" width=\"24\">\n",
       " <g fill=\"none\" fill-rule=\"nonzero\">\n",
       " <path class=\"ring_thumb\" d=\"M17.945 3.958A9.955 9.955 0 0 0 12 2c-2.19 0-4.217.705-5.865 1.9L5.131 2.16A11.945 11.945 0 0 1 12 0c2.59 0 4.99.82 6.95 2.217l-1.005 1.741z\" fill=\"#E44331\"></path>\n",
       " <path class=\"ring_track\" d=\"M5.13 2.16L6.136 3.9A9.987 9.987 0 0 0 2 12c0 5.523 4.477 10 10 10s10-4.477 10-10a9.986 9.986 0 0 0-4.055-8.042l1.006-1.741A11.985 11.985 0 0 1 24 12c0 6.627-5.373 12-12 12S0 18.627 0 12c0-4.073 2.029-7.671 5.13-9.84z\" fill=\"#FCECEA\"></path>\n",
       " </g>\n",
       " </svg>\n",
       " </div>,\n",
       " <div id=\"todoist_app\"></div>]"
      ]
     },
     "execution_count": 11,
     "metadata": {},
     "output_type": "execute_result"
    }
   ],
   "source": [
    "soup= bs4.BeautifulSoup(result.text,\"lxml\")\n",
    "soup.select('div')#[2].getText()"
   ]
  },
  {
   "cell_type": "code",
   "execution_count": 13,
   "metadata": {},
   "outputs": [],
   "source": [
    "res= requests.get(\"https://en.wikipedia.org/wiki/Grace_Hopper\")"
   ]
  },
  {
   "cell_type": "code",
   "execution_count": 14,
   "metadata": {},
   "outputs": [],
   "source": [
    "soup2= bs4.BeautifulSoup(res.text,\"lxml\")"
   ]
  },
  {
   "cell_type": "code",
   "execution_count": 16,
   "metadata": {},
   "outputs": [
    {
     "data": {
      "text/plain": [
       "[<span class=\"toctext\">Early life and education</span>,\n",
       " <span class=\"toctext\">Career</span>,\n",
       " <span class=\"toctext\">World War II</span>,\n",
       " <span class=\"toctext\">UNIVAC</span>,\n",
       " <span class=\"toctext\">COBOL</span>,\n",
       " <span class=\"toctext\">Standards</span>,\n",
       " <span class=\"toctext\">Retirement</span>,\n",
       " <span class=\"toctext\">Post-retirement</span>,\n",
       " <span class=\"toctext\">Anecdotes</span>,\n",
       " <span class=\"toctext\">Death</span>,\n",
       " <span class=\"toctext\">Dates of rank</span>,\n",
       " <span class=\"toctext\">Awards and honors</span>,\n",
       " <span class=\"toctext\">Military awards</span>,\n",
       " <span class=\"toctext\">Other awards</span>,\n",
       " <span class=\"toctext\">Legacy</span>,\n",
       " <span class=\"toctext\">Places</span>,\n",
       " <span class=\"toctext\">Programs</span>,\n",
       " <span class=\"toctext\">In popular culture</span>,\n",
       " <span class=\"toctext\">Grace Hopper Celebration of Women in Computing</span>,\n",
       " <span class=\"toctext\">Notes</span>,\n",
       " <span class=\"toctext\">Obituary notices</span>,\n",
       " <span class=\"toctext\">See also</span>,\n",
       " <span class=\"toctext\">References</span>,\n",
       " <span class=\"toctext\">Further reading</span>,\n",
       " <span class=\"toctext\">External links</span>]"
      ]
     },
     "execution_count": 16,
     "metadata": {},
     "output_type": "execute_result"
    }
   ],
   "source": [
    "soup2.select(' .toctext')"
   ]
  },
  {
   "cell_type": "code",
   "execution_count": 17,
   "metadata": {},
   "outputs": [
    {
     "name": "stdout",
     "output_type": "stream",
     "text": [
      "Early life and education\n",
      "Career\n",
      "World War II\n",
      "UNIVAC\n",
      "COBOL\n",
      "Standards\n",
      "Retirement\n",
      "Post-retirement\n",
      "Anecdotes\n",
      "Death\n",
      "Dates of rank\n",
      "Awards and honors\n",
      "Military awards\n",
      "Other awards\n",
      "Legacy\n",
      "Places\n",
      "Programs\n",
      "In popular culture\n",
      "Grace Hopper Celebration of Women in Computing\n",
      "Notes\n",
      "Obituary notices\n",
      "See also\n",
      "References\n",
      "Further reading\n",
      "External links\n"
     ]
    }
   ],
   "source": [
    "for i in soup2.select('.toctext'):\n",
    "    print (i.text)"
   ]
  },
  {
   "cell_type": "code",
   "execution_count": 25,
   "metadata": {},
   "outputs": [],
   "source": [
    "compuimage=soup2.select('.thumbimage')[0]"
   ]
  },
  {
   "cell_type": "code",
   "execution_count": 26,
   "metadata": {},
   "outputs": [
    {
     "data": {
      "text/plain": [
       "'//upload.wikimedia.org/wikipedia/commons/thumb/a/aa/Harvard_Mark_I_sign-up.agr.jpg/220px-Harvard_Mark_I_sign-up.agr.jpg'"
      ]
     },
     "execution_count": 26,
     "metadata": {},
     "output_type": "execute_result"
    }
   ],
   "source": [
    "compuimage['src']"
   ]
  },
  {
   "cell_type": "markdown",
   "metadata": {},
   "source": [
    "<img\n",
    "src=\"https://upload.wikimedia.org/wikipedia/commons/thumb/a/ad/Commodore_Grace_M._Hopper%2C_USN_%28covered%29.jpg/440px-Commodore_Grace_M._Hopper%2C_USN_%28covered%29.jpg\">\n"
   ]
  },
  {
   "cell_type": "code",
   "execution_count": null,
   "metadata": {},
   "outputs": [],
   "source": []
  }
 ],
 "metadata": {
  "kernelspec": {
   "display_name": "Python 3.8.3 32-bit ('DjangoProjects-mvt6MnTk': venv)",
   "language": "python",
   "name": "python38332bitdjangoprojectsmvt6mntkvenv256bdf631ae441f3afa6fb3525600e72"
  },
  "language_info": {
   "codemirror_mode": {
    "name": "ipython",
    "version": 3
   },
   "file_extension": ".py",
   "mimetype": "text/x-python",
   "name": "python",
   "nbconvert_exporter": "python",
   "pygments_lexer": "ipython3",
   "version": "3.8.3"
  }
 },
 "nbformat": 4,
 "nbformat_minor": 2
}
