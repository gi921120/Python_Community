{
 "metadata": {
  "language_info": {
   "codemirror_mode": {
    "name": "ipython",
    "version": 3
   },
   "file_extension": ".py",
   "mimetype": "text/x-python",
   "name": "python",
   "nbconvert_exporter": "python",
   "pygments_lexer": "ipython3",
   "version": "3.8.3-final"
  },
  "orig_nbformat": 2,
  "kernelspec": {
   "name": "python38332bitdjangoprojectsmvt6mntkvenv256bdf631ae441f3afa6fb3525600e72",
   "display_name": "Python 3.8.3 32-bit ('DjangoProjects-mvt6MnTk': venv)"
  }
 },
 "nbformat": 4,
 "nbformat_minor": 2,
 "cells": [
  {
   "cell_type": "code",
   "execution_count": 1,
   "metadata": {
    "tags": []
   },
   "outputs": [
    {
     "output_type": "stream",
     "name": "stdout",
     "text": "<re.Match object; span=(1, 4), match='aza'>\n<re.Match object; span=(18, 22), match='hway'>\nNone\n<re.Match object; span=(0, 6), match='cloudy'>\n"
    }
   ],
   "source": [
    "import re\n",
    "print( re.search(r\"aza\",\"bazaar\"))      # Show the match with the location in the string \n",
    "print(re.search(r\"[a-z]way\", \"The end of the highway\")) #match range a to z as character before way\n",
    "print(re.search(r\"[0-20]way\", \"The end of the highway\")) #match range 0 to 20 as character before way. If it's False . it will return None\n",
    "\n",
    "print(re.search(r\"cloud[a-zA-Z0-9]\", \"cloudy \")) #Matches any alphanumeric character\n",
    "\n",
    "\n"
   ]
  },
  {
   "cell_type": "code",
   "execution_count": 13,
   "metadata": {
    "tags": []
   },
   "outputs": [
    {
     "output_type": "stream",
     "name": "stdout",
     "text": "<re.Match object; span=(0, 1), match='T'>\n<re.Match object; span=(10, 13), match='dog'>\n"
    }
   ],
   "source": [
    "print(re.search(r\"[^a-zA-Z ]\", \"This is a sentence cloudy .\"))   # ^ Used to match the oposite in [] in this case match the first space\n",
    "\n",
    "print(re.search(r\"cat|dog\", \"There are dogs and  cats\")) # Match any of the options cat or dog using |. Returns the first of them in the string"
   ]
  },
  {
   "cell_type": "code",
   "execution_count": 7,
   "metadata": {
    "tags": []
   },
   "outputs": [
    {
     "output_type": "stream",
     "name": "stdout",
     "text": "<re.Match object; span=(0, 8), match='Pythooon'>\n<re.Match object; span=(0, 17), match='Python Programmin'>\n<re.Match object; span=(0, 6), match='Python'>\n"
    }
   ],
   "source": [
    "print(re.search(r\"Py.*n\",\"Pythooon\"))   # It spand the whildcard . property to all the characters in between\n",
    "print(re.search(r\"Py.*n\",\"Python Programming\")) # It is not recommended for severan words\n",
    "print(re.search(r\"Py[a-z]*n\",\"Python\")) # Instead is better use this with the wildcard []"
   ]
  },
  {
   "cell_type": "code",
   "execution_count": 47,
   "metadata": {
    "tags": []
   },
   "outputs": [
    {
     "output_type": "stream",
     "name": "stdout",
     "text": "<re.Match object; span=(1, 7), match='ooolll'>\n<re.Match object; span=(0, 5), match='Anima'>\n"
    }
   ],
   "source": [
    "print(re.search(r\"o+l+\", \"gooollly\")) # Match repeted characters one or more times. Require at least one occurrence\n",
    "print(re.search(r\"[a,A].+a\", \"Animal\")) # Used together with wildcard "
   ]
  },
  {
   "cell_type": "code",
   "execution_count": 6,
   "metadata": {
    "tags": []
   },
   "outputs": [
    {
     "output_type": "stream",
     "name": "stdout",
     "text": "<re.Match object; span=(3, 7), match='each'>\n<re.Match object; span=(4, 9), match='peach'>\n<re.Match object; span=(3, 7), match='.com'>\n<re.Match object; span=(0, 4), match='This'>\n<re.Match object; span=(0, 7), match='This_is'>\n"
    }
   ],
   "source": [
    "print(re.search(r\"p?each\",\"To each their own\")) # Match either zero or one occurence of the character before it\n",
    "print(re.search(r\"p?each\",\"The peach \")) \n",
    "\n",
    "print(re.search(r\"\\.com\",'hey.com')) # It process as string the special character .\n",
    "print(re.search(r\"\\w*\",'This is')) # matches alphanumeric values and _\n",
    "print(re.search(r\"\\w*\",'This_is')) # matches alphanumeric values and _\n",
    "\n"
   ]
  },
  {
   "cell_type": "code",
   "execution_count": 7,
   "metadata": {
    "tags": []
   },
   "outputs": [
    {
     "output_type": "stream",
     "name": "stdout",
     "text": "<re.Match object; span=(0, 9), match='Argentina'>\nNone\n"
    }
   ],
   "source": [
    "print(re.search(r\"^A.*a$\",\"Argentina\")) #This match if the word start with A and end with a\n",
    "print(re.search(r\"^A.*a$\",\"Azerbaijan\"))"
   ]
  },
  {
   "cell_type": "code",
   "execution_count": 40,
   "metadata": {
    "tags": []
   },
   "outputs": [
    {
     "output_type": "stream",
     "name": "stdout",
     "text": "True\nFalse\nTrue\nFalse\n"
    }
   ],
   "source": [
    "import re\n",
    "def check_zip_code (text):\n",
    "  result = re.search(r\"\\d+[a-z ,-]+\\d\", text)\n",
    "  return result != None\n",
    "\n",
    "print(check_zip_code(\"The zip codes for New York are 10001 thru 11104.\")) # True\n",
    "print(check_zip_code(\"90210 is a TV show\")) # False\n",
    "print(check_zip_code(\"Their address is: 123 Main Street, Anytown, AZ 85258-0001.\")) # True\n",
    "print(check_zip_code(\"The Parliament of Canada is at 111 Wellington St, Ottawa, ON K1A0A9.\")) # False"
   ]
  },
  {
   "cell_type": "code",
   "execution_count": 7,
   "metadata": {
    "tags": []
   },
   "outputs": [
    {
     "output_type": "stream",
     "name": "stdout",
     "text": "('Lovelace', 'Ada')\nLovelace,Ada\nLovelace\nAda\n"
    }
   ],
   "source": [
    "result = re.search(r\"^(\\w*), (\\w*)$\",\"Lovelace, Ada\") # Define groups in order to access the value separtley and reorder the name\n",
    "print (result.groups()) # Show the group\n",
    "print (result[0]) # The cero element of the group is all the elements \n",
    "print (result[1]) # The first element is in this case Lovelace\n",
    "print (result[2]) # The second element is in this case Ada\n"
   ]
  },
  {
   "cell_type": "code",
   "execution_count": 18,
   "metadata": {
    "tags": []
   },
   "outputs": [
    {
     "output_type": "stream",
     "name": "stdout",
     "text": "<re.Match object; span=(2, 7), match='scary'>\n['scary', 'ghost', 'appea']\n['scary', 'ghost']\n['really', 'passionfru']\n['really', 'passionfruit']\n<re.Match object; span=(14, 26), match='passionfruit'>\n"
    }
   ],
   "source": [
    "print (re.search(r\"[a-zA-Z]{5}\",\"a scary ghost appeared\")) # Match letters that are repeted 5 times \n",
    "print (re.findall(r\"[a-zA-Z]{5}\",\"a scary ghost appeared\")) # We used to find all the options that match \n",
    "print (re.findall(r\"\\b[a-zA-Z]{5}\\b\",\"a scary ghost appeared\")) # We used \\b to match words \n",
    "print (re.findall(r\"\\w{5,10}\",\"I really like passionfruit\")) # We  can also match in a range until the top boundary.\n",
    "print (re.findall(r\"\\w{5,}\",\"I really like passionfruit\")) # Match without the top boundary will match the full words\n",
    "print (re.search(r\"p\\w{,30}\", \"I really like passionfruit\")) # Match without the first boundary will match the full words that start with the letter p"
   ]
  },
  {
   "cell_type": "code",
   "execution_count": null,
   "metadata": {},
   "outputs": [],
   "source": [
    "import re\n",
    "def show_time_of_pid(line):\n",
    "  pattern = r\"^([a-zA-Z ]* [\\d \\:]*) (.*)\\[(\\d+)\\]\"\n",
    "  result = re.search(pattern, line)\n",
    "  return '{} pid:{}'.format(result[1],result[3])\n",
    "\n",
    "print(show_time_of_pid(\"Jul 6 14:01:23 computer.name CRON[29440]: USER (good_user)\")) # Jul 6 14:01:23 pid:29440\n",
    "\n",
    "print(show_time_of_pid(\"Jul 6 14:02:08 computer.name jam_tag=psim[29187]: (UUID:006)\")) # Jul 6 14:02:08 pid:29187\n",
    "\n",
    "print(show_time_of_pid(\"Jul 6 14:02:09 computer.name jam_tag=psim[29187]: (UUID:007)\")) # Jul 6 14:02:09 pid:29187\n",
    "\n",
    "print(show_time_of_pid(\"Jul 6 14:03:01 computer.name CRON[29440]: USER (naughty_user)\")) # Jul 6 14:03:01 pid:29440\n",
    "\n",
    "print(show_time_of_pid(\"Jul 6 14:03:40 computer.name cacheclient[29807]: start syncing from \\\"0xDEADBEEF\\\"\")) # Jul 6 14:03:40 pid:29807\n",
    "\n",
    "print(show_time_of_pid(\"Jul 6 14:04:01 computer.name CRON[29440]: USER (naughty_user)\")) # Jul 6 14:04:01 pid:29440\n",
    "\n",
    "print(show_time_of_pid(\"Jul 6 14:05:01 computer.name CRON[29440]: USER (naughty_user)\")) # Jul 6 14:05:01 pid:29440"
   ]
  },
  {
   "cell_type": "code",
   "execution_count": 53,
   "metadata": {
    "tags": []
   },
   "outputs": [
    {
     "output_type": "stream",
     "name": "stdout",
     "text": "12345 (ERROR)\nNone\nNone\n67890 (RUNNING)\n"
    }
   ],
   "source": [
    "import re\n",
    "def extract_pid(log_line):\n",
    "    regex = r\"\\[(\\d+)\\]: ([A-Z]*)\" # match the value inside square and with this navigate to the group with the index\n",
    "    result = re.search(regex, log_line)\n",
    "    # print (result)\n",
    "    if result is None:\n",
    "        return None\n",
    "    return \"{} ({})\".format(result[1],result[2])\n",
    "\n",
    "print(extract_pid(\"July 31 07:51:48 mycomputer bad_process[12345]: ERROR Performing package upgrade\")) # 12345 (ERROR)\n",
    "print(extract_pid(\"99 elephants in a [cage]\")) # None\n",
    "print(extract_pid(\"A string that also has numbers [34567] but no uppercase message\")) # None\n",
    "print(extract_pid(\"July 31 08:08:08 mycomputer new_process[67890]: RUNNING Performing backup\")) # 67890 (RUNNING)\n",
    "\n"
   ]
  },
  {
   "cell_type": "code",
   "execution_count": 55,
   "metadata": {},
   "outputs": [
    {
     "output_type": "execute_result",
     "data": {
      "text/plain": "'Ada Lovelace'"
     },
     "metadata": {},
     "execution_count": 55
    }
   ],
   "source": [
    "re.split (r\"[.?!]\", \"one sentence. anotherone! lastone?\") # The elements in the [] are interpreted as split element in the string  \n",
    "re.split (r\"([.?!])\", \"one sentence. anotherone! lastone?\") # Using () return the values use it to separate\n",
    "\n",
    "re.sub(r\"[\\w.%+-]+@[\\w.=]+\",\"[REPLACEMENT]\",\"Receive and email from go_nuts@gmail.com\") # replace. It includeall the possible elements before @ and after\n",
    "re.sub(r\"^([\\w .-]*), ([\\w .-]*)$\",r\"\\2 \\1\",\"Lovelace, Ada\")# second parameter after r indicate the elements to orther /2 is the second element and /1 the first one  "
   ]
  },
  {
   "cell_type": "code",
   "execution_count": 3,
   "metadata": {
    "tags": []
   },
   "outputs": [
    {
     "output_type": "stream",
     "name": "stdout",
     "text": "Sabrina Green,+1-802-867-5309,System Administrator\nEli Jones,+1-684-3481127,IT specialist\nMelody Daniels,+1-846-687-7436,Programmer\nCharlie Rivera,+1-698-746-3357,Web Developer\n"
    }
   ],
   "source": [
    "import re\n",
    "def transform_record(record):\n",
    "  new_record = re.sub(r\"^([\\w .-]*)\\,(\\.*)\",r\"\\1,+1-\\2\",record)\n",
    "#   new_record = re.sub(r\"^([\\w .-]*), ([\\w .-]*)$\",r\"\\1 \\+1\\-[\\d*] \\3\",\"Lovelace, Ada\")\n",
    "  return new_record\n",
    "\n",
    "print(transform_record(\"Sabrina Green,802-867-5309,System Administrator\")) \n",
    "# Sabrina Green,+1-802-867-5309,System Administrator\n",
    "\n",
    "print(transform_record(\"Eli Jones,684-3481127,IT specialist\")) \n",
    "# Eli Jones,+1-684-3481127,IT specialist\n",
    "\n",
    "print(transform_record(\"Melody Daniels,846-687-7436,Programmer\")) \n",
    "# Melody Daniels,+1-846-687-7436,Programmer\n",
    "\n",
    "print(transform_record(\"Charlie Rivera,698-746-3357,Web Developer\")) \n",
    "# Charlie Rivera,+1-698-746-3357,Web Developer"
   ]
  },
  {
   "cell_type": "code",
   "execution_count": 14,
   "metadata": {
    "tags": []
   },
   "outputs": [
    {
     "output_type": "stream",
     "name": "stdout",
     "text": "Sabrina Green,+1-802-867-5309,System Administrator\n"
    }
   ],
   "source": [
    "import re\n",
    "def transform_record(record):\n",
    "  new_record = re.sub(r\"^([\\w .-]*)\\,(\\.*)\",r\"\\1,+1-\\2\",record) # The use of grups is higly important to add information to the match \n",
    "  return new_record\n",
    "\n",
    "print(transform_record(\"Sabrina Green,802-867-5309,System Administrator\")) \n",
    "# Sabrina Green,+1-802-867-5309,System Administrator"
   ]
  },
  {
   "cell_type": "code",
   "execution_count": 13,
   "metadata": {
    "tags": []
   },
   "outputs": [
    {
     "output_type": "stream",
     "name": "stdout",
     "text": "Sabrina Green,+1-802-867-5309,System Administrator\n"
    }
   ],
   "source": [
    "print(re.sub(r\"^([\\w .-]*)\\,(\\.*)\",r\"\\1,+1-\\2\",\"Sabrina Green,802-867-5309,System Administrator\"))"
   ]
  },
  {
   "cell_type": "code",
   "execution_count": 18,
   "metadata": {
    "tags": []
   },
   "outputs": [
    {
     "output_type": "stream",
     "name": "stdout",
     "text": "My number is (212) 345-9999.\nPlease call (888) 555-1234\n123-123-12345\nPhone number of Buckingham Palace is +44 303 123 7300\n"
    }
   ],
   "source": [
    "import re\n",
    "def convert_phone_number(phone):\n",
    "  result = re.sub(r\"^([a-zA-Z ]*) ([\\d]*)\\-([-\\d\\.]*)$\",r\"\\1 (\\2) \\3\",phone)\n",
    "  return result\n",
    "\n",
    "print(convert_phone_number(\"My number is 212-345-9999.\")) # My number is (212) 345-9999.\n",
    "print(convert_phone_number(\"Please call 888-555-1234\")) # Please call (888) 555-1234\n",
    "print(convert_phone_number(\"123-123-12345\")) # 123-123-12345\n",
    "print(convert_phone_number(\"Phone number of Buckingham Palace is +44 303 123 7300\")) # Phone number of Buckingham Palace is +44 303 123 7300"
   ]
  },
  {
   "cell_type": "code",
   "execution_count": 1,
   "metadata": {
    "tags": []
   },
   "outputs": [
    {
     "output_type": "stream",
     "name": "stdout",
     "text": "['beautiful']\n"
    }
   ],
   "source": [
    "import re\n",
    "def multi_vowel_words(text):\n",
    "  pattern = \"[\\w][aeiou]{3,}[\\w]*\"\n",
    "  result = re.findall(pattern, text)\n",
    "  return result\n",
    "\n",
    "print(multi_vowel_words(\"Life is beautiful\")) \n",
    "# ['beautiful']"
   ]
  },
  {
   "cell_type": "code",
   "execution_count": 2,
   "metadata": {
    "tags": []
   },
   "outputs": [
    {
     "output_type": "stream",
     "name": "stdout",
     "text": "['beautiful']\n['Obviously', 'queen', 'courageous', 'gracious']\n['rambunctious', 'quietly', 'delicious']\n['queue']\n[]\n"
    }
   ],
   "source": [
    "import re\n",
    "def multi_vowel_words(text):\n",
    "  pattern = \"[\\w]*[aeiou]{3,}[\\w]*\"\n",
    "  result = re.findall(pattern, text)\n",
    "  return result\n",
    "\n",
    "print(multi_vowel_words(\"Life is beautiful\")) \n",
    "# ['beautiful']\n",
    "\n",
    "print(multi_vowel_words(\"Obviously, the queen is courageous and gracious.\")) \n",
    "# ['Obviously', 'queen', 'courageous', 'gracious']\n",
    "\n",
    "print(multi_vowel_words(\"The rambunctious children had to sit quietly and await their delicious dinner.\")) \n",
    "# ['rambunctious', 'quietly', 'delicious']\n",
    "\n",
    "print(multi_vowel_words(\"The order of a data queue is First In First Out (FIFO)\")) \n",
    "# ['queue']\n",
    "\n",
    "print(multi_vowel_words(\"Hello world!\")) \n",
    "# []"
   ]
  },
  {
   "cell_type": "code",
   "execution_count": null,
   "metadata": {},
   "outputs": [],
   "source": [
    "#!/usr/bin/env python3 # I don't have the csv file but the logic is interesting. Review this later \n",
    "# Do a similiar exercise with other info\n",
    "\n",
    "import re\n",
    "import csv\n",
    "\n",
    "\n",
    "def contains_domain(address, domain):\n",
    "  \"\"\"Returns True if the email address contains the given,domain,in the domain position, false if not.\"\"\"\n",
    "  domain = r'[\\w\\.-]+@'+domain+'$'\n",
    "  if re.match(domain,address):\n",
    "    return True\n",
    "  return False\n",
    "\n",
    "\n",
    "def replace_domain(address, old_domain, new_domain):\n",
    "  \"\"\"Replaces the old domain with the new domain in the received address.\"\"\"\n",
    "  old_domain_pattern = r'' + old_domain + '$'\n",
    "  address = re.sub(old_domain_pattern, new_domain, address)\n",
    "  return address\n",
    "\n",
    "def main():\n",
    "  \"\"\"Processes the list of emails, replacing any instances of the old domain with the new domain.\"\"\"\n",
    "  old_domain, new_domain = 'abc.edu', 'xyz.edu'\n",
    "  csv_file_location = '<csv_file_location>'\n",
    "  report_file = '<path_to_home_directory>' + '/updated_user_emails.csv'\n",
    "  user_email_list = []\n",
    "  old_domain_email_list = []\n",
    "  new_domain_email_list = []\n",
    "\n",
    "  with open(csv_file_location, 'r') as f:\n",
    "    user_data_list = list(csv.reader(f))\n",
    "    user_email_list = [data[1].strip() for data in user_data_list[1:]]\n",
    "\n",
    "    for email_address in user_email_list:\n",
    "      if contains_domain(email_address, old_domain):\n",
    "        old_domain_email_list.append(email_address)\n",
    "        replaced_email = replace_domain(email_address,old_domain,new_domain)\n",
    "        new_domain_email_list.append(replaced_email)\n",
    "\n",
    "    email_key = ' ' + 'Email Address'\n",
    "    email_index = user_data_list[0].index(email_key)\n",
    "\n",
    "    for user in user_data_list[1:]:\n",
    "      for old_domain, new_domain in zip(old_domain_email_list, new_domain_email_list):\n",
    "        if user[email_index] == ' ' + old_domain:\n",
    "          user[email_index] = ' ' + new_domain\n",
    "  f.close()\n",
    "\n",
    "  with open(report_file, 'w+') as output_file:\n",
    "    writer = csv.writer(output_file)\n",
    "    writer.writerows(user_data_list)\n",
    "    output_file.close()\n",
    "\n",
    "main()\n"
   ]
  }
 ]
}