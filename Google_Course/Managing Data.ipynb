{
 "metadata": {
  "language_info": {
   "codemirror_mode": {
    "name": "ipython",
    "version": 3
   },
   "file_extension": ".py",
   "mimetype": "text/x-python",
   "name": "python",
   "nbconvert_exporter": "python",
   "pygments_lexer": "ipython3",
   "version": "3.8.3-final"
  },
  "orig_nbformat": 2,
  "kernelspec": {
   "name": "python38332bitdjangoprojectsmvt6mntkvenv256bdf631ae441f3afa6fb3525600e72",
   "display_name": "Python 3.8.3 32-bit ('DjangoProjects-mvt6MnTk': venv)"
  }
 },
 "nbformat": 4,
 "nbformat_minor": 2,
 "cells": [
  {
   "cell_type": "code",
   "execution_count": 15,
   "metadata": {},
   "outputs": [
    {
     "output_type": "execute_result",
     "data": {
      "text/plain": "CompletedProcess(args=['notepad.exe'], returncode=0)"
     },
     "metadata": {},
     "execution_count": 15
    }
   ],
   "source": [
    "import subprocess  # Allow to start processes or programs\n",
    "subprocess.run([\"notepad.exe\"]) # Any retunr value different to cero is associate to and error \n",
    "# subprocess.call([\"ping\", \"www.yahoo.com\"])"
   ]
  },
  {
   "cell_type": "code",
   "execution_count": null,
   "metadata": {},
   "outputs": [],
   "source": [
    "#!/usr/bin/env python3 I don't have the log file but the logic is interesting. Review this later\n",
    "# Do a similiar exercise with other info\n",
    "import sys\n",
    "import os\n",
    "import re\n",
    "\n",
    "\n",
    "def error_search(log_file):\n",
    "  error = input(\"What is the error? \")\n",
    "  returned_errors = []\n",
    "  with open(log_file, mode='r',encoding='UTF-8') as file:\n",
    "    for log in  file.readlines():\n",
    "      error_patterns = [\"error\"]\n",
    "      for i in range(len(error.split(' '))):\n",
    "        error_patterns.append(r\"{}\".format(error.split(' ')[i].lower()))\n",
    "      if all(re.search(error_pattern, log.lower()) for error_pattern in error_patterns):\n",
    "        returned_errors.append(log)\n",
    "    file.close()\n",
    "  return returned_errors\n",
    "\n",
    "  \n",
    "def file_output(returned_errors):\n",
    "  with open(os.path.expanduser('~') + '/data/errors_found.log', 'w') as file:\n",
    "    for error in returned_errors:\n",
    "      file.write(error)\n",
    "    file.close()\n",
    "if __name__ == \"__main__\":\n",
    "  log_file = sys.argv[1]\n",
    "  returned_errors = error_search(log_file)\n",
    "  file_output(returned_errors)\n",
    "  sys.exit(0)\n",
    "\n"
   ]
  },
  {
   "cell_type": "code",
   "execution_count": 3,
   "metadata": {},
   "outputs": [],
   "source": [
    "# Raise or create error to interect with the user or program\n",
    "\n",
    "# assertion raise an error if it's not True\n",
    "\n"
   ]
  }
 ]
}