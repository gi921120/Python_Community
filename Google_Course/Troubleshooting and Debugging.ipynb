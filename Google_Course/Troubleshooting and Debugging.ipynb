{
 "metadata": {
  "language_info": {
   "codemirror_mode": {
    "name": "ipython",
    "version": 3
   },
   "file_extension": ".py",
   "mimetype": "text/x-python",
   "name": "python",
   "nbconvert_exporter": "python",
   "pygments_lexer": "ipython3",
   "version": "3.8.3-final"
  },
  "orig_nbformat": 2,
  "kernelspec": {
   "name": "python3",
   "display_name": "Python 3.8.3 32-bit ('DjangoProjects-mvt6MnTk')",
   "metadata": {
    "interpreter": {
     "hash": "4f4f27d57617a86be320ca4d6b9d99db78e2823a5a78d26c8c9c479dbffb7fd6"
    }
   }
  }
 },
 "nbformat": 4,
 "nbformat_minor": 2,
 "cells": [
  {
   "cell_type": "code",
   "execution_count": 19,
   "metadata": {},
   "outputs": [
    {
     "output_type": "stream",
     "name": "stdout",
     "text": [
      "True\nFalse\nTrue\nFalse\n"
     ]
    }
   ],
   "source": [
    "def find_item(list, item):\n",
    "  #Returns True if the item is in the list, False if not.\n",
    "  if len(list) == 0:\n",
    "    return False\n",
    "\n",
    "  #Is the item in the center of the list?\n",
    "  middle = len(list)//2\n",
    "  if list[middle] == item:\n",
    "    return True\n",
    "\n",
    "  #Is the item in the first half of the list? \n",
    "  if item in list[:middle]:\n",
    "    #Call the function with the first half of the list\n",
    "    return find_item(list[:middle], item)\n",
    "  else:\n",
    "    #Call the function with the second half of the list\n",
    "    return find_item(list[middle+1:], item)\n",
    "\n",
    "  return False\n",
    "\n",
    "#Do not edit below this line - This code helps check your work!\n",
    "list_of_names = [\"Parker\", \"Drew\", \"Cameron\", \"Logan\", \"Alex\", \"Chris\", \"Terry\", \"Jamie\", \"Jordan\", \"Taylor\"]\n",
    "\n",
    "print(find_item(list_of_names, \"Alex\")) # True\n",
    "print(find_item(list_of_names, \"Andrew\")) # False\n",
    "print(find_item(list_of_names, \"Drew\")) # True\n",
    "print(find_item(list_of_names, \"Jared\")) # False"
   ]
  },
  {
   "cell_type": "code",
   "execution_count": 23,
   "metadata": {},
   "outputs": [
    {
     "output_type": "stream",
     "name": "stdout",
     "text": [
      "Checking the left side\nChecking the left side\n0\n4\nChecking the right side\nChecking the left side\nChecking the right side\n6\nChecking the right side\nChecking the right side\nChecking the right side\n9\nChecking the right side\nChecking the right side\nChecking the right side\nChecking the right side\n-1\n"
     ]
    },
    {
     "output_type": "execute_result",
     "data": {
      "text/plain": [
       "'Should print 4 debug lines and the \"not found\" value of -1:\\nChecking the right side\\nChecking the right side\\nChecking the right side\\nChecking the right side\\n-1\\n'"
      ]
     },
     "metadata": {},
     "execution_count": 23
    }
   ],
   "source": [
    "def binary_search(list, key):\n",
    "    #Returns the position of key in the list if found, -1 otherwise.\n",
    "\n",
    "    #List must be sorted:\n",
    "    list.sort()\n",
    "    left = 0\n",
    "    right = len(list) - 1\n",
    "\n",
    "    while left <= right:\n",
    "        middle = (left + right) // 2\n",
    "\n",
    "        if list[middle] == key:\n",
    "            return middle\n",
    "        if list[middle] > key:\n",
    "            right = middle - 1\n",
    "            print(\"Checking the left side\")\n",
    "        if list[middle] < key:\n",
    "            left = middle + 1\n",
    "            print(\"Checking the right side\")\n",
    "    return -1 \n",
    "\n",
    "print(binary_search([10, 2, 9, 6, 7, 1, 5, 3, 4, 8], 1))\n",
    "\"\"\"Should print 2 debug lines and the return value:\n",
    "Checking the left side\n",
    "Checking the left side\n",
    "0\n",
    "\"\"\"\n",
    "\n",
    "print(binary_search([1, 2, 3, 4, 5, 6, 7, 8, 9, 10], 5))\n",
    "\"\"\"Should print no debug lines, as it's located immediately:\n",
    "4\n",
    "\"\"\"\n",
    "\n",
    "print(binary_search([10, 9, 8, 7, 6, 5, 4, 3, 2, 1], 7))\n",
    "\"\"\"Should print 3 debug lines and the return value:\n",
    "Checking the right side\n",
    "Checking the left side\n",
    "Checking the right side\n",
    "6\n",
    "\"\"\"\n",
    "\n",
    "print(binary_search([1, 3, 5, 7, 9, 10, 2, 4, 6, 8], 10))\n",
    "\"\"\"Should print 3 debug lines and the return value:\n",
    "Checking the right side\n",
    "Checking the right side\n",
    "Checking the right side\n",
    "9\n",
    "\"\"\"\n",
    "\n",
    "print(binary_search([5, 1, 8, 2, 4, 10, 7, 6, 3, 9], 11))\n",
    "\"\"\"Should print 4 debug lines and the \"not found\" value of -1:\n",
    "Checking the right side\n",
    "Checking the right side\n",
    "Checking the right side\n",
    "Checking the right side\n",
    "-1\n",
    "\"\"\""
   ]
  },
  {
   "cell_type": "code",
   "execution_count": 31,
   "metadata": {},
   "outputs": [
    {
     "output_type": "stream",
     "name": "stdout",
     "text": [
      "Linear: 1 steps, Binary: 4 steps. Best Search is Linear.\nLinear: 4 steps, Binary: 4 steps. Result is a Tie.\nLinear: 4 steps, Binary: 5 steps. Best Search is Linear.\nLinear: 6 steps, Binary: 5 steps. Best Search is Binary.\nLinear: 10 steps, Binary: 5 steps. Best Search is Binary.\n"
     ]
    }
   ],
   "source": [
    "def linear_search(list, key):\n",
    "    #Returns the number of steps to determine if key is in the list \n",
    "\n",
    "    #Initialize the counter of steps\n",
    "    steps=0\n",
    "    for i, item in enumerate(list):\n",
    "        steps += 1\n",
    "        if item == key:\n",
    "            break\n",
    "    return steps \n",
    "\n",
    "def binary_search(list, key):\n",
    "    #Returns the number of steps to determine if key is in the list \n",
    "\n",
    "    #List must be sorted:\n",
    "    list.sort()\n",
    "\n",
    "    #The Sort was 1 step, so initialize the counter of steps to 1\n",
    "    steps=1\n",
    "\n",
    "    left = 0\n",
    "    right = len(list) - 1\n",
    "    while left <= right:\n",
    "        steps += 1\n",
    "        middle = (left + right) // 2\n",
    "        \n",
    "        if list[middle] == key:\n",
    "            break\n",
    "        if list[middle] > key:\n",
    "            right = middle - 1\n",
    "        if list[middle] < key:\n",
    "            left = middle + 1\n",
    "    return steps \n",
    "\n",
    "def best_search(list, key):\n",
    "    steps_linear = linear_search(list, key) \n",
    "    steps_binary = binary_search(list, key) \n",
    "    results = \"Linear: \" + str(steps_linear) + \" steps, \"\n",
    "    results += \"Binary: \" + str(steps_binary) + \" steps. \"\n",
    "    if steps_linear<steps_binary:\n",
    "        results += \"Best Search is Linear.\"\n",
    "    elif steps_linear>steps_binary:\n",
    "        results += \"Best Search is Binary.\"\n",
    "    else:\n",
    "        results += \"Result is a Tie.\"\n",
    "\n",
    "    return results\n",
    "\n",
    "print(best_search([1, 2, 3, 4, 5, 6, 7, 8, 9, 10], 1))\n",
    "#Should be: Linear: 1 steps, Binary: 4 steps. Best Search is Linear.\n",
    "\n",
    "print(best_search([10, 2, 9, 1, 7, 5, 3, 4, 6, 8], 1))\n",
    "#Should be: Linear: 4 steps, Binary: 4 steps. Result is a Tie.\n",
    "\n",
    "print(best_search([10, 9, 8, 7, 6, 5, 4, 3, 2, 1], 7))\n",
    "#Should be: Linear: 4 steps, Binary: 5 steps. Best Search is Linear.\n",
    "\n",
    "print(best_search([1, 3, 5, 7, 9, 10, 2, 4, 6, 8], 10))\n",
    "#Should be: Linear: 6 steps, Binary: 5 steps. Best Search is Binary.\n",
    "\n",
    "print(best_search([5, 1, 8, 2, 4, 10, 7, 6, 3, 9], 11))\n",
    "#Should be: Linear: 10 steps, Binary: 5 steps. Best Search is Binary."
   ]
  },
  {
   "cell_type": "code",
   "execution_count": null,
   "metadata": {},
   "outputs": [],
   "source": []
  }
 ]
}