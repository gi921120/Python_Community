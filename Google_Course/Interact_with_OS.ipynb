{
 "metadata": {
  "language_info": {
   "codemirror_mode": {
    "name": "ipython",
    "version": 3
   },
   "file_extension": ".py",
   "mimetype": "text/x-python",
   "name": "python",
   "nbconvert_exporter": "python",
   "pygments_lexer": "ipython3",
   "version": "3.8.3-final"
  },
  "orig_nbformat": 2,
  "kernelspec": {
   "name": "python38332bitdjangoprojectsmvt6mntkvenv256bdf631ae441f3afa6fb3525600e72",
   "display_name": "Python 3.8.3 32-bit ('DjangoProjects-mvt6MnTk': venv)"
  }
 },
 "nbformat": 4,
 "nbformat_minor": 2,
 "cells": [
  {
   "cell_type": "code",
   "execution_count": 17,
   "metadata": {
    "tags": []
   },
   "outputs": [
    {
     "output_type": "stream",
     "name": "stdout",
     "text": "<re.Match object; span=(1, 4), match='aza'>\n<re.Match object; span=(18, 22), match='hway'>\nNone\n<re.Match object; span=(0, 6), match='cloudy'>\nNone\n"
    }
   ],
   "source": [
    "import re\n",
    "print( re.search(r\"aza\",\"bazaar\"))      # Show the match with the location in the string \n",
    "print(re.search(r\"[a-z]way\", \"The end of the highway\")) #match range a to z as character before way\n",
    "print(re.search(r\"[0-20]way\", \"The end of the highway\")) #match range 0 to 20 as character before way. If it's False . it will return None\n",
    "\n",
    "print(re.search(r\"cloud[a-zA-Z0-9]\", \"cloudy \")) #Matches any alphanumeric character\n",
    "\n",
    "\n"
   ]
  },
  {
   "cell_type": "code",
   "execution_count": 21,
   "metadata": {
    "tags": []
   },
   "outputs": [
    {
     "output_type": "stream",
     "name": "stdout",
     "text": "<re.Match object; span=(26, 27), match='.'>\n<re.Match object; span=(10, 13), match='dog'>\n"
    }
   ],
   "source": [
    "print(re.search(r\"[^a-zA-Z ]\", \"This is a sentence cloudy .\"))   # ^ Used to match the oposite in [] in this case match the first space\n",
    "\n",
    "print(re.search(r\"cat|dog\", \"There are dogs and  cats\")) # Match any of the options cat or dog using |. Returns the first of them in the string"
   ]
  },
  {
   "cell_type": "code",
   "execution_count": null,
   "metadata": {},
   "outputs": [],
   "source": []
  }
 ]
}