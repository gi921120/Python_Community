{
 "metadata": {
  "language_info": {
   "codemirror_mode": {
    "name": "ipython",
    "version": 3
   },
   "file_extension": ".py",
   "mimetype": "text/x-python",
   "name": "python",
   "nbconvert_exporter": "python",
   "pygments_lexer": "ipython3",
   "version": 3
  },
  "orig_nbformat": 2
 },
 "nbformat": 4,
 "nbformat_minor": 2,
 "cells": [
  {
   "cell_type": "code",
   "execution_count": null,
   "metadata": {},
   "outputs": [],
   "source": [
    "git log -p # show detail of change \n",
    "git show {patch} # Show the associate pathecs \n",
    "git diff --staged # Show the differeces between the stage file and the already commited files\n",
    "\n",
    "git rm # remove files in your repository \n",
    "ls- la # Show even the hidden files \n"
   ]
  }
 ]
}