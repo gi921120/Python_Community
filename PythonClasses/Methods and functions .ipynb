{
 "cells": [
  {
   "cell_type": "code",
   "execution_count": 5,
   "metadata": {},
   "outputs": [
    {
     "data": {
      "text/plain": [
       "2"
      ]
     },
     "execution_count": 5,
     "metadata": {},
     "output_type": "execute_result"
    }
   ],
   "source": [
    "mylist=[1,8,93,93,2]\n",
    "mylist.pop()"
   ]
  },
  {
   "cell_type": "code",
   "execution_count": 7,
   "metadata": {},
   "outputs": [
    {
     "name": "stdout",
     "output_type": "stream",
     "text": [
      "Help on built-in function pop:\n",
      "\n",
      "pop(index=-1, /) method of builtins.list instance\n",
      "    Remove and return item at index (default last).\n",
      "    \n",
      "    Raises IndexError if list is empty or index is out of range.\n",
      "\n"
     ]
    }
   ],
   "source": [
    "help(mylist.pop)"
   ]
  },
  {
   "cell_type": "code",
   "execution_count": 2,
   "metadata": {},
   "outputs": [],
   "source": [
    "def gio():\n",
    "    '''\n",
    "    Here I can  add the information  about the function.\n",
    "    It can be call with help\n",
    "    '''\n",
    "    print('Hello')"
   ]
  },
  {
   "cell_type": "code",
   "execution_count": 3,
   "metadata": {},
   "outputs": [
    {
     "name": "stdout",
     "output_type": "stream",
     "text": [
      "Help on function gio in module __main__:\n",
      "\n",
      "gio()\n",
      "    Here I can  add the information  about the function.\n",
      "    It can be call with help\n",
      "\n"
     ]
    }
   ],
   "source": [
    "help(gio)"
   ]
  },
  {
   "cell_type": "code",
   "execution_count": 27,
   "metadata": {},
   "outputs": [],
   "source": [
    "def ar(g,d):\n",
    "    return sum((g,d)) * 0.05"
   ]
  },
  {
   "cell_type": "code",
   "execution_count": 28,
   "metadata": {},
   "outputs": [
    {
     "data": {
      "text/plain": [
       "5.0"
      ]
     },
     "execution_count": 28,
     "metadata": {},
     "output_type": "execute_result"
    }
   ],
   "source": [
    "ar(40,60)"
   ]
  },
  {
   "cell_type": "code",
   "execution_count": 29,
   "metadata": {},
   "outputs": [],
   "source": [
    "def gio(g,d,e=0,y=0):\n",
    "    return sum((g,d)) * 0.05"
   ]
  },
  {
   "cell_type": "code",
   "execution_count": 36,
   "metadata": {},
   "outputs": [],
   "source": [
    "#Using *argumnet or key word arguments. Return Tuples \n",
    "def gio(*args):\n",
    "    for intems in args:\n",
    "        print (intems)"
   ]
  },
  {
   "cell_type": "code",
   "execution_count": 37,
   "metadata": {},
   "outputs": [
    {
     "name": "stdout",
     "output_type": "stream",
     "text": [
      "3\n",
      "5\n",
      "6\n",
      "8\n"
     ]
    }
   ],
   "source": [
    "gio(3,5,6,8)"
   ]
  },
  {
   "cell_type": "code",
   "execution_count": 42,
   "metadata": {},
   "outputs": [],
   "source": [
    "# Use of key word arguments. Return Dictionaries \n",
    "def gio2(**kward):\n",
    "    print(kward)\n",
    "    if 'search' in kward:\n",
    "        print('I found these choices {}'.format(kward['search']))\n",
    "    else:\n",
    "        print(\"I didn't find anything\")"
   ]
  },
  {
   "cell_type": "code",
   "execution_count": 44,
   "metadata": {},
   "outputs": [
    {
     "name": "stdout",
     "output_type": "stream",
     "text": [
      "{'kitchen': 'spoon', 'bathroom': 'Toilet', 'room': 'bed'}\n",
      "I didn't find anything\n"
     ]
    }
   ],
   "source": [
    "gio2(kitchen='spoon',bathroom='Toilet',room='bed')"
   ]
  },
  {
   "cell_type": "code",
   "execution_count": 43,
   "metadata": {},
   "outputs": [
    {
     "name": "stdout",
     "output_type": "stream",
     "text": [
      "{'kitchen': 'spoon', 'bathroom': 'Toilet', 'room': 'bed', 'search': 'yes'}\n",
      "I found these choices yes\n"
     ]
    }
   ],
   "source": [
    "gio2(kitchen='spoon',bathroom='Toilet',room='bed',search='yes')"
   ]
  },
  {
   "cell_type": "code",
   "execution_count": 47,
   "metadata": {},
   "outputs": [],
   "source": [
    "# Use args and Kargs in convination \n",
    "def myfunc(*args,**Kwargs):\n",
    "    print(Kwargs)\n",
    "    print(args)\n",
    "    print('Show me the number {} and the element {}'.format(args[2],Kwargs['light']))"
   ]
  },
  {
   "cell_type": "code",
   "execution_count": 50,
   "metadata": {},
   "outputs": [
    {
     "name": "stdout",
     "output_type": "stream",
     "text": [
      "{'light': 'Wind', 'heavy': 'Iron'}\n",
      "(10, 30, 40)\n",
      "Show me the number 40 and the element Wind\n"
     ]
    }
   ],
   "source": [
    "#The argument and the keyarguments can not be mixed \n",
    "myfunc(10,30,40,light='Wind',heavy='Iron')"
   ]
  },
  {
   "cell_type": "code",
   "execution_count": 1,
   "metadata": {},
   "outputs": [],
   "source": [
    "def myfunc(a):\n",
    "    out = []\n",
    "    for i in range(len(a)):\n",
    "        if i%2==0:\n",
    "            out.append(a[i].lower())\n",
    "        else:\n",
    "            out.append(a[i].upper())\n",
    "    return ''.join(out)"
   ]
  },
  {
   "cell_type": "code",
   "execution_count": 2,
   "metadata": {},
   "outputs": [
    {
     "data": {
      "text/plain": [
       "'sOmEtHiNgToDo'"
      ]
     },
     "execution_count": 2,
     "metadata": {},
     "output_type": "execute_result"
    }
   ],
   "source": [
    "myfunc('Somethingtodo')"
   ]
  },
  {
   "cell_type": "code",
   "execution_count": 4,
   "metadata": {},
   "outputs": [
    {
     "name": "stdout",
     "output_type": "stream",
     "text": [
      "0\n",
      "1\n",
      "2\n",
      "3\n",
      "4\n",
      "5\n"
     ]
    }
   ],
   "source": [
    "def myfunc(a):\n",
    "    out = []\n",
    "    for i in range(len(a)):\n",
    "        print (i)\n",
    "myfunc('alosns')"
   ]
  },
  {
   "cell_type": "code",
   "execution_count": null,
   "metadata": {},
   "outputs": [],
   "source": []
  }
 ],
 "metadata": {
  "kernelspec": {
   "display_name": "Python 3",
   "language": "python",
   "name": "python3"
  },
  "language_info": {
   "codemirror_mode": {
    "name": "ipython",
    "version": 3
   },
   "file_extension": ".py",
   "mimetype": "text/x-python",
   "name": "python",
   "nbconvert_exporter": "python",
   "pygments_lexer": "ipython3",
   "version": "3.7.4"
  }
 },
 "nbformat": 4,
 "nbformat_minor": 2
}
