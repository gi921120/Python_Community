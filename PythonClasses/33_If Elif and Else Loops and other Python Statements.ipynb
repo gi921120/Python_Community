{
 "cells": [
  {
   "cell_type": "code",
   "execution_count": 3,
   "metadata": {},
   "outputs": [
    {
     "name": "stdout",
     "output_type": "stream",
     "text": [
      "Don't Feed it\n"
     ]
    }
   ],
   "source": [
    "hun= False\n",
    "if hun:\n",
    "    print('Feed it')\n",
    "else:\n",
    "    print(\"Don't Feed it\")"
   ]
  },
  {
   "cell_type": "code",
   "execution_count": 7,
   "metadata": {},
   "outputs": [
    {
     "name": "stdout",
     "output_type": "stream",
     "text": [
      "I don't recognize your name\n"
     ]
    }
   ],
   "source": [
    "name= 'Jose'\n",
    "if name== 'Gio':\n",
    "    print('Hey Gio')\n",
    "elif name == 'Diego':\n",
    "    print('Hey Diego')\n",
    "else:\n",
    "    print(\"I don't recognize your name\")      "
   ]
  },
  {
   "cell_type": "code",
   "execution_count": 2,
   "metadata": {},
   "outputs": [],
   "source": [
    "#string and list are iterable\n",
    "myg=[1,2,3,4,5,6,7,8,9,10]"
   ]
  },
  {
   "cell_type": "code",
   "execution_count": 26,
   "metadata": {},
   "outputs": [
    {
     "name": "stdout",
     "output_type": "stream",
     "text": [
      "hello 1\n",
      "hello 2\n",
      "hello 3\n",
      "hello 4\n",
      "hello 5\n",
      "hello 6\n",
      "hello 7\n",
      "hello 8\n",
      "hello 9\n",
      "hello 10\n"
     ]
    }
   ],
   "source": [
    "for i in myg:\n",
    "    print('hello {}'.format(i))"
   ]
  },
  {
   "cell_type": "code",
   "execution_count": 27,
   "metadata": {},
   "outputs": [
    {
     "name": "stdout",
     "output_type": "stream",
     "text": [
      "Odd Numb:1\n",
      "2\n",
      "Odd Numb:3\n",
      "4\n",
      "Odd Numb:5\n",
      "6\n",
      "Odd Numb:7\n",
      "8\n",
      "Odd Numb:9\n",
      "10\n"
     ]
    }
   ],
   "source": [
    "for i in myg:\n",
    "    #Check even\n",
    "    if i%2==0:\n",
    "        print(i) \n",
    "    else:\n",
    "        print(f'Odd Numb:{i}')    "
   ]
  },
  {
   "cell_type": "code",
   "execution_count": 29,
   "metadata": {},
   "outputs": [
    {
     "name": "stdout",
     "output_type": "stream",
     "text": [
      "55\n"
     ]
    }
   ],
   "source": [
    "listsum=0\n",
    "for num in myg:\n",
    "    listsum=listsum+num\n",
    "print (listsum)    "
   ]
  },
  {
   "cell_type": "code",
   "execution_count": 30,
   "metadata": {},
   "outputs": [
    {
     "name": "stdout",
     "output_type": "stream",
     "text": [
      "H\n",
      "e\n",
      "l\n",
      "l\n",
      "o\n",
      " \n",
      "W\n",
      "o\n",
      "r\n",
      "l\n",
      "d\n"
     ]
    }
   ],
   "source": [
    "stg='Hello World'\n",
    "for letter in stg:\n",
    "    print (letter)"
   ]
  },
  {
   "cell_type": "code",
   "execution_count": 34,
   "metadata": {},
   "outputs": [
    {
     "name": "stdout",
     "output_type": "stream",
     "text": [
      "1\n",
      "3\n",
      "4\n"
     ]
    }
   ],
   "source": [
    "tupl=(1,3,4)\n",
    "for t in tupl:\n",
    "    print (t)"
   ]
  },
  {
   "cell_type": "code",
   "execution_count": 39,
   "metadata": {},
   "outputs": [
    {
     "name": "stdout",
     "output_type": "stream",
     "text": [
      "1\n",
      "5\n",
      "8\n"
     ]
    }
   ],
   "source": [
    "#TUPLE AND PACKING \n",
    "\n",
    "my1=[(1,2,3),(5,6,7),(8,9,4)]\n",
    "for a,b,c in my1:\n",
    "    print (a)"
   ]
  },
  {
   "cell_type": "code",
   "execution_count": 44,
   "metadata": {},
   "outputs": [
    {
     "name": "stdout",
     "output_type": "stream",
     "text": [
      "('k1', 2)\n",
      "('k2', 4)\n",
      "('k3', 9)\n"
     ]
    }
   ],
   "source": [
    "dic={'k1':2,'k2':4,'k3':9}#Intead of the list that just return the key. it has to refer the items\n",
    "for vi in dic.items():\n",
    "    print(vi)"
   ]
  },
  {
   "cell_type": "code",
   "execution_count": 46,
   "metadata": {},
   "outputs": [
    {
     "name": "stdout",
     "output_type": "stream",
     "text": [
      "2\n",
      "4\n",
      "9\n"
     ]
    }
   ],
   "source": [
    "#With dictionary is not garantee of order \n",
    "for k,val in dic.items():\n",
    "    print(val)"
   ]
  },
  {
   "cell_type": "code",
   "execution_count": 5,
   "metadata": {},
   "outputs": [
    {
     "name": "stdout",
     "output_type": "stream",
     "text": [
      "Running x 0\n",
      "Running x 1\n",
      "Running x 2\n",
      "Running x 3\n",
      "Running x 4\n"
     ]
    }
   ],
   "source": [
    "x=0\n",
    "while x<=4:\n",
    "    print ('Running x {}'.format(x))\n",
    "    x=x+1"
   ]
  },
  {
   "cell_type": "code",
   "execution_count": 8,
   "metadata": {},
   "outputs": [
    {
     "name": "stdout",
     "output_type": "stream",
     "text": [
      "G\n",
      "o\n",
      "v\n",
      "a\n"
     ]
    }
   ],
   "source": [
    "mysting='Giova'\n",
    "for letter in mysting:\n",
    "    if letter =='i':\n",
    "        continue \n",
    "    print (letter)"
   ]
  },
  {
   "cell_type": "code",
   "execution_count": 10,
   "metadata": {},
   "outputs": [
    {
     "name": "stdout",
     "output_type": "stream",
     "text": [
      "G\n"
     ]
    }
   ],
   "source": [
    "mysting='Giova'\n",
    "for letter in mysting:\n",
    "    if letter =='i':\n",
    "        break #Really useful in while loops \n",
    "    print (letter)"
   ]
  },
  {
   "cell_type": "code",
   "execution_count": null,
   "metadata": {},
   "outputs": [],
   "source": []
  },
  {
   "cell_type": "code",
   "execution_count": null,
   "metadata": {},
   "outputs": [],
   "source": []
  }
 ],
 "metadata": {
  "kernelspec": {
   "display_name": "Python 3",
   "language": "python",
   "name": "python3"
  },
  "language_info": {
   "codemirror_mode": {
    "name": "ipython",
    "version": 3
   },
   "file_extension": ".py",
   "mimetype": "text/x-python",
   "name": "python",
   "nbconvert_exporter": "python",
   "pygments_lexer": "ipython3",
   "version": "3.7.4"
  }
 },
 "nbformat": 4,
 "nbformat_minor": 2
}
