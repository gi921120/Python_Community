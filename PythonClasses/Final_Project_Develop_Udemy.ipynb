{
 "cells": [
  {
   "cell_type": "code",
   "execution_count": 1,
   "metadata": {},
   "outputs": [],
   "source": [
    "#Tax Calculator - Asks the user to enter a cost and either a country or state tax. It then returns the tax plus the total cost with tax.\n",
    "class TaxCalculator:\n",
    "    # country=''\n",
    "    \n",
    "    # countries=''\n",
    "    # def __init__(self,country):\n",
    "        # self.country= country\n",
    "        # self.countries=countries\n",
    "        # self.cost_item = costitem\n",
    "\n",
    "    def country_tax(self):\n",
    "        country=''\n",
    "        cost_item=int(input('What is the Cost of the Item'))\n",
    "        countries={\"australia\":0.45,\"colombia\":0.39}\n",
    "        country=input('Select the country').lower()\n",
    "        for key,value in countries.items(): \n",
    "            if country == key:\n",
    "                cost_item = (1-value)*cost_item\n",
    "                print(f\" Tax is {value} and your total cost after tax is: {cost_item}\")\n",
    "\n",
    "\n",
    "cal=TaxCalculator()\n",
    "cal.country_tax()\n"
   ]
  },
  {
   "cell_type": "code",
   "execution_count": 114,
   "metadata": {},
   "outputs": [],
   "source": [
    "###-- CHOOSE ONE OF THIS AND CHEK THE SOLUTION FOR THE OTHERS \n",
    "#Closest pair problem - The closest pair of points problem or closest pair problem is a problem of computational geometry: given n points in metric space, find a pair of points with the smallest distance between them.\n",
    "\n",
    "#Eulerian Path - Create a program which will take as an input a graph and output either a Eulerian path or a Eulerian cycle, or state that it is not possible. A Eulerian Path starts at one node and traverses every edge of a graph through every node and finishes at another node. A Eulerian cycle is a eulerian Path that starts and finishes at the same node.\n",
    "\n",
    "#Quote Tracker (market symbols etc) - A program which can go out and check the current value of stocks for a list of symbols entered by the user. The user can set how often the stocks are checked. For CLI, show whether the stock has moved up or down. Optional: If GUI, the program can show green up and red down arrows to show which direction the stock value has moved.\n",
    "\n",
    "#Mail Checker (POP3 / IMAP) - The user enters various account information include web server and IP, protocol type (POP3 or IMAP) and the application will check for email at a given interval.\n",
    "\n",
    "#Family Tree Creator - Create a class called Person which will have a name, when they were born and when (and if) they died. Allow the user to create these Person classes and put them into a family tree structure. Print out the tree to the screen.\n",
    "\n",
    "#Bulk Thumbnail Creator - Picture processing can take a bit of time for some transformations. Especially if the image is large. Create an image program which can take hundreds of images and converts them to a specified size in the background thread while you do other things. For added complexity, have one thread handling re-sizing, have another bulk renaming of thumbnails etc.\n",
    "\n",
    "#E-Card Generator - Make a site that allows people to generate their own little e-cards and send them to other people. Do not use Flash. Use a picture library and perhaps insightful mottos or quotes.\n",
    "\n",
    "#PDF Generator - An application which can read in a text file, html file or some other file and generates a PDF file out of it. Great for a web based service where the user uploads the file and the program returns a PDF of the file. Optional: Deploy on GAE or Heroku if possible.\n",
    "\n",
    "#Report Generator - Create a utility that generates a report based on some tables in a database. Generates a sales reports based on the order/order details tables or sums up the days current database activity.\n",
    "\n",
    "#GIF Creator A program that puts together multiple images (PNGs, JPGs, TIFFs) to make a smooth GIF that can be exported. Optional: Make the program convert small video files to GIFs as well.\n",
    "\n",
    "#Caesar cipher - Implement a Caesar cipher, both encoding and decoding. The key is an integer from 1 to 25. This cipher rotates the letters of the alphabet (A to Z). The encoding replaces each letter with the 1st to 25th next letter in the alphabet (wrapping Z to A). So key 2 encrypts \"HI\" to \"JK\", but key 20 encrypts \"HI\" to \"BC\". This simple \"monoalphabetic substitution cipher\" provides almost no security, because an attacker who has the encoded message can either use frequency analysis to guess the key, or just try all 25 keys"
   ]
  },
  {
   "cell_type": "code",
   "execution_count": null,
   "metadata": {},
   "outputs": [],
   "source": [
    "#Family Tree Creator - Create a class called Person which will have a name, when they were born and when (and if) they died. Allow the user to create these Person classes and put them into a family tree structure. Print out the tree to the screen.\n",
    "\n",
    "class FamilyTree:\n",
    "    def parents(self):\n",
    "\n",
    "\n",
    "class Person:\n",
    "    def __init__(self,name,born,died):\n",
    "        self.name=name\n",
    "        self.born=born \n",
    "        self.died=died \n",
    "\n",
    "# Check repository example in Python_Develop call familytree\n",
    "# class of relation between person. This will allow to put it in a family tree  \n",
    "\n"
   ]
  }
 ],
 "metadata": {
  "language_info": {
   "codemirror_mode": {
    "name": "ipython",
    "version": 3
   },
   "file_extension": ".py",
   "mimetype": "text/x-python",
   "name": "python",
   "nbconvert_exporter": "python",
   "pygments_lexer": "ipython3",
   "version": "3.8.3-final"
  },
  "orig_nbformat": 2,
  "kernelspec": {
   "name": "python38332bitdjangoprojectsmvt6mntkvenv256bdf631ae441f3afa6fb3525600e72",
   "display_name": "Python 3.8.3 32-bit ('DjangoProjects-mvt6MnTk': venv)"
  }
 },
 "nbformat": 4,
 "nbformat_minor": 2
}